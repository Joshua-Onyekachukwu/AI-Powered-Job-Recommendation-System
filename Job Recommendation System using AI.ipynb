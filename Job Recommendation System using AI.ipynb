{
 "cells": [
  {
   "metadata": {
    "ExecuteTime": {
     "end_time": "2025-02-19T13:12:37.749875Z",
     "start_time": "2025-02-19T13:12:36.095956Z"
    }
   },
   "cell_type": "code",
   "source": [
    "import pandas as pd\n",
    "import numpy as np\n",
    "from sklearn.feature_extraction.text import TfidfVectorizer\n",
    "from sklearn.metrics.pairwise import cosine_similarity\n",
    "import nltk\n",
    "from nltk.corpus import stopwords\n",
    "from flask import Flask, request, jsonify\n",
    "from flask_cors import CORS\n"
   ],
   "id": "1cb56d60421413d7",
   "outputs": [],
   "execution_count": 2
  },
  {
   "cell_type": "code",
   "id": "initial_id",
   "metadata": {
    "collapsed": true,
    "ExecuteTime": {
     "end_time": "2025-02-19T13:12:41.239502Z",
     "start_time": "2025-02-19T13:12:39.809992Z"
    }
   },
   "source": [
    "# Load the dataset\n",
    "jobs_df = pd.read_csv('upwork-jobs.csv')\n",
    "\n",
    "# Display the first few rows\n",
    "jobs_df.head()\n"
   ],
   "outputs": [
    {
     "data": {
      "text/plain": [
       "                                               title  \\\n",
       "0  Experienced Media Buyer For Solar Pannel and R...   \n",
       "1                               Full Stack Developer   \n",
       "2                                    SMMA Bubble App   \n",
       "3             Talent Hunter Specialized in Marketing   \n",
       "4                                      Data Engineer   \n",
       "\n",
       "                                                link  \\\n",
       "0  https://www.upwork.com/jobs/Experienced-Media-...   \n",
       "1  https://www.upwork.com/jobs/Full-Stack-Develop...   \n",
       "2  https://www.upwork.com/jobs/SMMA-Bubble-App_%7...   \n",
       "3  https://www.upwork.com/jobs/Talent-Hunter-Spec...   \n",
       "4  https://www.upwork.com/jobs/Data-Engineer_%7E0...   \n",
       "\n",
       "                                         description  \\\n",
       "0  We’re looking for a talented and hardworking a...   \n",
       "1  Job Title: Full Stack DeveloperWe are seeking ...   \n",
       "2  I need someone to redesign my bubble.io site t...   \n",
       "3  Join Our Growing Team!We are an innovative com...   \n",
       "4  We are looking for a resource who can work par...   \n",
       "\n",
       "              published_date is_hourly  hourly_low  hourly_high  budget  \\\n",
       "0  2024-02-17 09:09:54+00:00     False         NaN          NaN   500.0   \n",
       "1  2024-02-17 09:09:17+00:00     False         NaN          NaN  1100.0   \n",
       "2  2024-02-17 09:08:46+00:00      True        10.0         30.0     NaN   \n",
       "3  2024-02-17 09:08:08+00:00       NaN         NaN          NaN     NaN   \n",
       "4  2024-02-17 09:07:42+00:00     False         NaN          NaN   650.0   \n",
       "\n",
       "         country  \n",
       "0            NaN  \n",
       "1  United States  \n",
       "2  United States  \n",
       "3  United States  \n",
       "4          India  "
      ],
      "text/html": [
       "<div>\n",
       "<style scoped>\n",
       "    .dataframe tbody tr th:only-of-type {\n",
       "        vertical-align: middle;\n",
       "    }\n",
       "\n",
       "    .dataframe tbody tr th {\n",
       "        vertical-align: top;\n",
       "    }\n",
       "\n",
       "    .dataframe thead th {\n",
       "        text-align: right;\n",
       "    }\n",
       "</style>\n",
       "<table border=\"1\" class=\"dataframe\">\n",
       "  <thead>\n",
       "    <tr style=\"text-align: right;\">\n",
       "      <th></th>\n",
       "      <th>title</th>\n",
       "      <th>link</th>\n",
       "      <th>description</th>\n",
       "      <th>published_date</th>\n",
       "      <th>is_hourly</th>\n",
       "      <th>hourly_low</th>\n",
       "      <th>hourly_high</th>\n",
       "      <th>budget</th>\n",
       "      <th>country</th>\n",
       "    </tr>\n",
       "  </thead>\n",
       "  <tbody>\n",
       "    <tr>\n",
       "      <th>0</th>\n",
       "      <td>Experienced Media Buyer For Solar Pannel and R...</td>\n",
       "      <td>https://www.upwork.com/jobs/Experienced-Media-...</td>\n",
       "      <td>We’re looking for a talented and hardworking a...</td>\n",
       "      <td>2024-02-17 09:09:54+00:00</td>\n",
       "      <td>False</td>\n",
       "      <td>NaN</td>\n",
       "      <td>NaN</td>\n",
       "      <td>500.0</td>\n",
       "      <td>NaN</td>\n",
       "    </tr>\n",
       "    <tr>\n",
       "      <th>1</th>\n",
       "      <td>Full Stack Developer</td>\n",
       "      <td>https://www.upwork.com/jobs/Full-Stack-Develop...</td>\n",
       "      <td>Job Title: Full Stack DeveloperWe are seeking ...</td>\n",
       "      <td>2024-02-17 09:09:17+00:00</td>\n",
       "      <td>False</td>\n",
       "      <td>NaN</td>\n",
       "      <td>NaN</td>\n",
       "      <td>1100.0</td>\n",
       "      <td>United States</td>\n",
       "    </tr>\n",
       "    <tr>\n",
       "      <th>2</th>\n",
       "      <td>SMMA Bubble App</td>\n",
       "      <td>https://www.upwork.com/jobs/SMMA-Bubble-App_%7...</td>\n",
       "      <td>I need someone to redesign my bubble.io site t...</td>\n",
       "      <td>2024-02-17 09:08:46+00:00</td>\n",
       "      <td>True</td>\n",
       "      <td>10.0</td>\n",
       "      <td>30.0</td>\n",
       "      <td>NaN</td>\n",
       "      <td>United States</td>\n",
       "    </tr>\n",
       "    <tr>\n",
       "      <th>3</th>\n",
       "      <td>Talent Hunter Specialized in Marketing</td>\n",
       "      <td>https://www.upwork.com/jobs/Talent-Hunter-Spec...</td>\n",
       "      <td>Join Our Growing Team!We are an innovative com...</td>\n",
       "      <td>2024-02-17 09:08:08+00:00</td>\n",
       "      <td>NaN</td>\n",
       "      <td>NaN</td>\n",
       "      <td>NaN</td>\n",
       "      <td>NaN</td>\n",
       "      <td>United States</td>\n",
       "    </tr>\n",
       "    <tr>\n",
       "      <th>4</th>\n",
       "      <td>Data Engineer</td>\n",
       "      <td>https://www.upwork.com/jobs/Data-Engineer_%7E0...</td>\n",
       "      <td>We are looking for a resource who can work par...</td>\n",
       "      <td>2024-02-17 09:07:42+00:00</td>\n",
       "      <td>False</td>\n",
       "      <td>NaN</td>\n",
       "      <td>NaN</td>\n",
       "      <td>650.0</td>\n",
       "      <td>India</td>\n",
       "    </tr>\n",
       "  </tbody>\n",
       "</table>\n",
       "</div>"
      ]
     },
     "execution_count": 3,
     "metadata": {},
     "output_type": "execute_result"
    }
   ],
   "execution_count": 3
  },
  {
   "metadata": {
    "ExecuteTime": {
     "end_time": "2025-02-19T13:16:35.621544Z",
     "start_time": "2025-02-19T13:16:35.621544Z"
    }
   },
   "cell_type": "code",
   "source": [
    "# 📌 Code for Data Cleaning\n",
    "\n",
    "# Check for missing values\n",
    "print(jobs_df.isnull().sum())\n",
    "\n",
    "\n"
   ],
   "id": "ccbb38b68749dc81",
   "outputs": [],
   "execution_count": null
  },
  {
   "metadata": {
    "ExecuteTime": {
     "end_time": "2025-02-19T13:18:42.646972Z",
     "start_time": "2025-02-19T13:18:42.529703Z"
    }
   },
   "cell_type": "code",
   "source": [
    "\n",
    "# Drop rows with too many missing values (if needed)\n",
    "jobs_df.dropna(subset=['title', 'description'], inplace=True)\n",
    "\n",
    "# Fill missing values in numerical columns using .loc\n",
    "jobs_df.loc[:, 'hourly_low'] = jobs_df['hourly_low'].fillna(jobs_df['hourly_low'].median())\n",
    "jobs_df.loc[:, 'hourly_high'] = jobs_df['hourly_high'].fillna(jobs_df['hourly_high'].median())\n",
    "jobs_df.loc[:, 'budget'] = jobs_df['budget'].fillna(jobs_df['budget'].median())\n",
    "\n",
    "\n"
   ],
   "id": "e70d37c80d05d6cd",
   "outputs": [],
   "execution_count": 7
  },
  {
   "metadata": {
    "ExecuteTime": {
     "end_time": "2025-02-19T13:21:21.937991Z",
     "start_time": "2025-02-19T13:21:20.670314Z"
    }
   },
   "cell_type": "code",
   "source": [
    "# Convert text to lowercase\n",
    "jobs_df['title'] = jobs_df['title'].str.lower()\n",
    "jobs_df['description'] = jobs_df['description'].str.lower()\n",
    "\n"
   ],
   "id": "35a636f4e5244be9",
   "outputs": [],
   "execution_count": 9
  },
  {
   "metadata": {
    "ExecuteTime": {
     "end_time": "2025-02-19T13:24:05.016980Z",
     "start_time": "2025-02-19T13:24:05.006718Z"
    }
   },
   "cell_type": "code",
   "source": "",
   "id": "3a03a76f9e2808db",
   "outputs": [],
   "execution_count": 12
  },
  {
   "metadata": {
    "ExecuteTime": {
     "end_time": "2025-02-19T13:23:51.561069Z",
     "start_time": "2025-02-19T13:23:49.526621Z"
    }
   },
   "cell_type": "code",
   "source": [
    "\n",
    "def clean_text(text):\n",
    "    tokens = text.split()  # Tokenize text\n",
    "    tokens = [word for word in tokens if word.isalpha()]  # Remove non-alphabetic tokens\n",
    "    return \" \".join(tokens)\n",
    "\n",
    "jobs_df['description'] = jobs_df['description'].apply(clean_text)\n",
    "\n",
    "# Display cleaned dataset\n",
    "jobs_df.head()"
   ],
   "id": "1e63cce08082a852",
   "outputs": [
    {
     "data": {
      "text/plain": [
       "                                               title  \\\n",
       "0  experienced media buyer for solar pannel and r...   \n",
       "1                               full stack developer   \n",
       "2                                    smma bubble app   \n",
       "3             talent hunter specialized in marketing   \n",
       "4                                      data engineer   \n",
       "\n",
       "                                                link  \\\n",
       "0  https://www.upwork.com/jobs/Experienced-Media-...   \n",
       "1  https://www.upwork.com/jobs/Full-Stack-Develop...   \n",
       "2  https://www.upwork.com/jobs/SMMA-Bubble-App_%7...   \n",
       "3  https://www.upwork.com/jobs/Talent-Hunter-Spec...   \n",
       "4  https://www.upwork.com/jobs/Data-Engineer_%7E0...   \n",
       "\n",
       "                                         description  \\\n",
       "0  looking for a talented and hardworking ads man...   \n",
       "1  job full stack developerwe are seeking a talen...   \n",
       "2  i need someone to redesign my site to optimize...   \n",
       "3  join our growing are an innovative company exp...   \n",
       "4  we are looking for a resource who can work for...   \n",
       "\n",
       "              published_date is_hourly  hourly_low  hourly_high  budget  \\\n",
       "0  2024-02-17 09:09:54+00:00     False        15.0         30.0   500.0   \n",
       "1  2024-02-17 09:09:17+00:00     False        15.0         30.0  1100.0   \n",
       "2  2024-02-17 09:08:46+00:00      True        10.0         30.0   100.0   \n",
       "3  2024-02-17 09:08:08+00:00       NaN        15.0         30.0   100.0   \n",
       "4  2024-02-17 09:07:42+00:00     False        15.0         30.0   650.0   \n",
       "\n",
       "         country  \n",
       "0            NaN  \n",
       "1  United States  \n",
       "2  United States  \n",
       "3  United States  \n",
       "4          India  "
      ],
      "text/html": [
       "<div>\n",
       "<style scoped>\n",
       "    .dataframe tbody tr th:only-of-type {\n",
       "        vertical-align: middle;\n",
       "    }\n",
       "\n",
       "    .dataframe tbody tr th {\n",
       "        vertical-align: top;\n",
       "    }\n",
       "\n",
       "    .dataframe thead th {\n",
       "        text-align: right;\n",
       "    }\n",
       "</style>\n",
       "<table border=\"1\" class=\"dataframe\">\n",
       "  <thead>\n",
       "    <tr style=\"text-align: right;\">\n",
       "      <th></th>\n",
       "      <th>title</th>\n",
       "      <th>link</th>\n",
       "      <th>description</th>\n",
       "      <th>published_date</th>\n",
       "      <th>is_hourly</th>\n",
       "      <th>hourly_low</th>\n",
       "      <th>hourly_high</th>\n",
       "      <th>budget</th>\n",
       "      <th>country</th>\n",
       "    </tr>\n",
       "  </thead>\n",
       "  <tbody>\n",
       "    <tr>\n",
       "      <th>0</th>\n",
       "      <td>experienced media buyer for solar pannel and r...</td>\n",
       "      <td>https://www.upwork.com/jobs/Experienced-Media-...</td>\n",
       "      <td>looking for a talented and hardworking ads man...</td>\n",
       "      <td>2024-02-17 09:09:54+00:00</td>\n",
       "      <td>False</td>\n",
       "      <td>15.0</td>\n",
       "      <td>30.0</td>\n",
       "      <td>500.0</td>\n",
       "      <td>NaN</td>\n",
       "    </tr>\n",
       "    <tr>\n",
       "      <th>1</th>\n",
       "      <td>full stack developer</td>\n",
       "      <td>https://www.upwork.com/jobs/Full-Stack-Develop...</td>\n",
       "      <td>job full stack developerwe are seeking a talen...</td>\n",
       "      <td>2024-02-17 09:09:17+00:00</td>\n",
       "      <td>False</td>\n",
       "      <td>15.0</td>\n",
       "      <td>30.0</td>\n",
       "      <td>1100.0</td>\n",
       "      <td>United States</td>\n",
       "    </tr>\n",
       "    <tr>\n",
       "      <th>2</th>\n",
       "      <td>smma bubble app</td>\n",
       "      <td>https://www.upwork.com/jobs/SMMA-Bubble-App_%7...</td>\n",
       "      <td>i need someone to redesign my site to optimize...</td>\n",
       "      <td>2024-02-17 09:08:46+00:00</td>\n",
       "      <td>True</td>\n",
       "      <td>10.0</td>\n",
       "      <td>30.0</td>\n",
       "      <td>100.0</td>\n",
       "      <td>United States</td>\n",
       "    </tr>\n",
       "    <tr>\n",
       "      <th>3</th>\n",
       "      <td>talent hunter specialized in marketing</td>\n",
       "      <td>https://www.upwork.com/jobs/Talent-Hunter-Spec...</td>\n",
       "      <td>join our growing are an innovative company exp...</td>\n",
       "      <td>2024-02-17 09:08:08+00:00</td>\n",
       "      <td>NaN</td>\n",
       "      <td>15.0</td>\n",
       "      <td>30.0</td>\n",
       "      <td>100.0</td>\n",
       "      <td>United States</td>\n",
       "    </tr>\n",
       "    <tr>\n",
       "      <th>4</th>\n",
       "      <td>data engineer</td>\n",
       "      <td>https://www.upwork.com/jobs/Data-Engineer_%7E0...</td>\n",
       "      <td>we are looking for a resource who can work for...</td>\n",
       "      <td>2024-02-17 09:07:42+00:00</td>\n",
       "      <td>False</td>\n",
       "      <td>15.0</td>\n",
       "      <td>30.0</td>\n",
       "      <td>650.0</td>\n",
       "      <td>India</td>\n",
       "    </tr>\n",
       "  </tbody>\n",
       "</table>\n",
       "</div>"
      ]
     },
     "execution_count": 12,
     "metadata": {},
     "output_type": "execute_result"
    }
   ],
   "execution_count": 12
  },
  {
   "metadata": {
    "ExecuteTime": {
     "end_time": "2025-02-19T13:24:46.667855Z",
     "start_time": "2025-02-19T13:24:37.935738Z"
    }
   },
   "cell_type": "code",
   "source": [
    "# Vectorizing Job Descriptions\n",
    "\n",
    "\n",
    "# Initialize the TF-IDF Vectorizer\n",
    "tfidf_vectorizer = TfidfVectorizer(max_features=5000)  # Limiting to 5000 most important words\n",
    "\n",
    "# Fit and transform job descriptions into vectors\n",
    "job_vectors = tfidf_vectorizer.fit_transform(jobs_df['description'])\n",
    "\n",
    "# Display vectorized shape\n",
    "print(f\"TF-IDF matrix shape: {job_vectors.shape}\")\n"
   ],
   "id": "b60de6bb06945eff",
   "outputs": [
    {
     "name": "stdout",
     "output_type": "stream",
     "text": [
      "TF-IDF matrix shape: (53058, 5000)\n"
     ]
    }
   ],
   "execution_count": 13
  },
  {
   "metadata": {
    "ExecuteTime": {
     "end_time": "2025-02-19T13:30:07.478433Z",
     "start_time": "2025-02-19T13:30:03.070831Z"
    }
   },
   "cell_type": "code",
   "source": [
    "# 📌 Save the Model\n",
    "\n",
    "import joblib\n",
    "\n",
    "# Save the TF-IDF vectorizer\n",
    "joblib.dump(tfidf_vectorizer, \"tfidf_vectorizer.pkl\")\n",
    "\n",
    "# Save the job vectors\n",
    "joblib.dump(job_vectors, \"job_vectors.pkl\")\n",
    "\n",
    "# Save the processed job dataset\n",
    "jobs_df.to_csv(\"cleaned_upwork_jobs.csv\", index=False)\n",
    "\n",
    "print(\"Model and data saved successfully!\")\n"
   ],
   "id": "716e5c1c0ddbe800",
   "outputs": [
    {
     "name": "stdout",
     "output_type": "stream",
     "text": [
      "Model and data saved successfully!\n"
     ]
    }
   ],
   "execution_count": 18
  },
  {
   "metadata": {
    "ExecuteTime": {
     "end_time": "2025-02-19T13:30:26.827972Z",
     "start_time": "2025-02-19T13:30:24.781166Z"
    }
   },
   "cell_type": "code",
   "source": [
    "# 📌 Load the Model Later\n",
    "# Load the saved models\n",
    "tfidf_vectorizer = joblib.load(\"tfidf_vectorizer.pkl\")\n",
    "job_vectors = joblib.load(\"job_vectors.pkl\")\n",
    "\n",
    "# Load the cleaned job dataset\n",
    "jobs_df = pd.read_csv(\"cleaned_upwork_jobs.csv\")\n",
    "\n",
    "print(\"Model and data loaded successfully!\")\n"
   ],
   "id": "a52b25b22a1681ab",
   "outputs": [
    {
     "name": "stdout",
     "output_type": "stream",
     "text": [
      "Model and data loaded successfully!\n"
     ]
    }
   ],
   "execution_count": 19
  },
  {
   "metadata": {},
   "cell_type": "markdown",
   "source": [
    "🛠 Step 3: Implementing Job Recommendations\n",
    "\n",
    "We will:\n",
    "✅ Allow users to input their skills and experience\n",
    "✅ Convert user input into a TF-IDF vector\n",
    "✅ Compare it with job descriptions using Cosine Similarity\n",
    "✅ Recommend jobs with the highest match percentage\n"
   ],
   "id": "c39103e18f3fa698"
  },
  {
   "metadata": {
    "ExecuteTime": {
     "end_time": "2025-02-19T13:30:28.459964Z",
     "start_time": "2025-02-19T13:30:28.440877Z"
    }
   },
   "cell_type": "code",
   "source": [
    "def recommend_jobs(user_input, top_n=5):\n",
    "    \"\"\"\n",
    "    Recommend jobs based on user input.\n",
    "    Args:\n",
    "        user_input (str): User skills and experience.\n",
    "        top_n (int): Number of job recommendations to return.\n",
    "    Returns:\n",
    "        DataFrame: Top recommended jobs with match percentage.\n",
    "    \"\"\"\n",
    "    \n",
    "    # Convert user input into TF-IDF vector\n",
    "    user_vector = tfidf_vectorizer.transform([user_input])\n",
    "\n",
    "    # Compute cosine similarity between user input and job descriptions\n",
    "    similarity_scores = cosine_similarity(user_vector, job_vectors)\n",
    "\n",
    "    # Get top N job indices\n",
    "    job_indices = similarity_scores.argsort()[0][-top_n:][::-1]  # Get highest similarity scores\n",
    "\n",
    "    # Extract top job recommendations\n",
    "    recommended_jobs = jobs_df.iloc[job_indices].copy()\n",
    "\n",
    "    # Add match percentage\n",
    "    recommended_jobs['match_percentage'] = similarity_scores[0][job_indices] * 100\n",
    "\n",
    "    return recommended_jobs[['title', 'link', 'match_percentage']]\n"
   ],
   "id": "bd0d9af97ae08ba7",
   "outputs": [],
   "execution_count": 20
  },
  {
   "metadata": {
    "ExecuteTime": {
     "end_time": "2025-02-19T13:30:29.834384Z",
     "start_time": "2025-02-19T13:30:29.358825Z"
    }
   },
   "cell_type": "code",
   "source": [
    "user_input = \"Python developer with experience in machine learning and data analysis\"\n",
    "recommendations = recommend_jobs(user_input)\n",
    "print(recommendations)\n"
   ],
   "id": "e127dbeb5dd67523",
   "outputs": [
    {
     "name": "stdout",
     "output_type": "stream",
     "text": [
      "                                                   title  \\\n",
      "24454                               python data analysis   \n",
      "35226                machine learning trainer/instructor   \n",
      "48265                    python/tensorflow expert needed   \n",
      "32669                        machine learning researcher   \n",
      "52827  coding of a python function for image segmenta...   \n",
      "\n",
      "                                                    link  match_percentage  \n",
      "24454  https://www.upwork.com/jobs/Python-Data-analys...         63.922103  \n",
      "35226  https://www.upwork.com/jobs/Machine-Learning-T...         63.162852  \n",
      "48265  https://www.upwork.com/jobs/Python-TensorFlow-...         61.991082  \n",
      "32669  https://www.upwork.com/jobs/Machine-Learning-R...         59.227719  \n",
      "52827  https://www.upwork.com/jobs/Coding-Python-func...         58.445111  \n"
     ]
    }
   ],
   "execution_count": 21
  },
  {
   "metadata": {
    "ExecuteTime": {
     "end_time": "2025-02-19T13:30:30.421465Z",
     "start_time": "2025-02-19T13:30:29.834384Z"
    }
   },
   "cell_type": "code",
   "source": [
    "from IPython.display import display\n",
    "\n",
    "# Sample user input\n",
    "user_input = \"Python developer with experience in machine learning and data analysis\"\n",
    "\n",
    "# Get job recommendations\n",
    "recommendations = recommend_jobs(user_input)\n",
    "\n",
    "# Display as a table\n",
    "display(recommendations.style.format({'match_percentage': '{:.2f}%'}))\n"
   ],
   "id": "1149ae812e289f76",
   "outputs": [
    {
     "data": {
      "text/plain": [
       "<pandas.io.formats.style.Styler at 0x16cede52c30>"
      ],
      "text/html": [
       "<style type=\"text/css\">\n",
       "</style>\n",
       "<table id=\"T_b85e8\">\n",
       "  <thead>\n",
       "    <tr>\n",
       "      <th class=\"blank level0\" >&nbsp;</th>\n",
       "      <th id=\"T_b85e8_level0_col0\" class=\"col_heading level0 col0\" >title</th>\n",
       "      <th id=\"T_b85e8_level0_col1\" class=\"col_heading level0 col1\" >link</th>\n",
       "      <th id=\"T_b85e8_level0_col2\" class=\"col_heading level0 col2\" >match_percentage</th>\n",
       "    </tr>\n",
       "  </thead>\n",
       "  <tbody>\n",
       "    <tr>\n",
       "      <th id=\"T_b85e8_level0_row0\" class=\"row_heading level0 row0\" >24454</th>\n",
       "      <td id=\"T_b85e8_row0_col0\" class=\"data row0 col0\" >python data analysis</td>\n",
       "      <td id=\"T_b85e8_row0_col1\" class=\"data row0 col1\" >https://www.upwork.com/jobs/Python-Data-analysis_%7E01d768b2d453fed809?source=rss</td>\n",
       "      <td id=\"T_b85e8_row0_col2\" class=\"data row0 col2\" >63.92%</td>\n",
       "    </tr>\n",
       "    <tr>\n",
       "      <th id=\"T_b85e8_level0_row1\" class=\"row_heading level0 row1\" >35226</th>\n",
       "      <td id=\"T_b85e8_row1_col0\" class=\"data row1 col0\" >machine learning trainer/instructor</td>\n",
       "      <td id=\"T_b85e8_row1_col1\" class=\"data row1 col1\" >https://www.upwork.com/jobs/Machine-Learning-Trainer-Instructor_%7E01476faa2e44fae29b?source=rss</td>\n",
       "      <td id=\"T_b85e8_row1_col2\" class=\"data row1 col2\" >63.16%</td>\n",
       "    </tr>\n",
       "    <tr>\n",
       "      <th id=\"T_b85e8_level0_row2\" class=\"row_heading level0 row2\" >48265</th>\n",
       "      <td id=\"T_b85e8_row2_col0\" class=\"data row2 col0\" >python/tensorflow expert needed</td>\n",
       "      <td id=\"T_b85e8_row2_col1\" class=\"data row2 col1\" >https://www.upwork.com/jobs/Python-TensorFlow-Expert-Needed_%7E01584564aa599e759e?source=rss</td>\n",
       "      <td id=\"T_b85e8_row2_col2\" class=\"data row2 col2\" >61.99%</td>\n",
       "    </tr>\n",
       "    <tr>\n",
       "      <th id=\"T_b85e8_level0_row3\" class=\"row_heading level0 row3\" >32669</th>\n",
       "      <td id=\"T_b85e8_row3_col0\" class=\"data row3 col0\" >machine learning researcher</td>\n",
       "      <td id=\"T_b85e8_row3_col1\" class=\"data row3 col1\" >https://www.upwork.com/jobs/Machine-Learning-Researcher_%7E01d62094fe872e9601?source=rss</td>\n",
       "      <td id=\"T_b85e8_row3_col2\" class=\"data row3 col2\" >59.23%</td>\n",
       "    </tr>\n",
       "    <tr>\n",
       "      <th id=\"T_b85e8_level0_row4\" class=\"row_heading level0 row4\" >52827</th>\n",
       "      <td id=\"T_b85e8_row4_col0\" class=\"data row4 col0\" >coding of a python function for image segmentation in indoor environment</td>\n",
       "      <td id=\"T_b85e8_row4_col1\" class=\"data row4 col1\" >https://www.upwork.com/jobs/Coding-Python-function-for-image-segmentation-indoor-environment_%7E01efa542f1f8b0cd51?source=rss</td>\n",
       "      <td id=\"T_b85e8_row4_col2\" class=\"data row4 col2\" >58.45%</td>\n",
       "    </tr>\n",
       "  </tbody>\n",
       "</table>\n"
      ]
     },
     "metadata": {},
     "output_type": "display_data"
    }
   ],
   "execution_count": 22
  },
  {
   "metadata": {
    "ExecuteTime": {
     "end_time": "2025-02-19T13:29:07.727129Z",
     "start_time": "2025-02-19T13:29:07.717308Z"
    }
   },
   "cell_type": "code",
   "source": "# Step 4: Interactive User Input Form",
   "id": "9c5b2ec2af22b8c0",
   "outputs": [],
   "execution_count": 17
  },
  {
   "metadata": {
    "ExecuteTime": {
     "end_time": "2025-02-19T13:31:09.675621Z",
     "start_time": "2025-02-19T13:31:01.240206Z"
    }
   },
   "cell_type": "code",
   "source": [
    "# 📌 Install & Import ipywidgets\n",
    "!pip install ipywidgets\n"
   ],
   "id": "86cc79a4423e1521",
   "outputs": [
    {
     "name": "stdout",
     "output_type": "stream",
     "text": [
      "Requirement already satisfied: ipywidgets in c:\\users\\semek\\pycharmprojects\\ai-powered-job-recommendation-system\\.venv\\lib\\site-packages (8.1.5)\n",
      "Requirement already satisfied: comm>=0.1.3 in c:\\users\\semek\\pycharmprojects\\ai-powered-job-recommendation-system\\.venv\\lib\\site-packages (from ipywidgets) (0.2.2)\n",
      "Requirement already satisfied: ipython>=6.1.0 in c:\\users\\semek\\pycharmprojects\\ai-powered-job-recommendation-system\\.venv\\lib\\site-packages (from ipywidgets) (8.32.0)\n",
      "Requirement already satisfied: traitlets>=4.3.1 in c:\\users\\semek\\pycharmprojects\\ai-powered-job-recommendation-system\\.venv\\lib\\site-packages (from ipywidgets) (5.14.3)\n",
      "Requirement already satisfied: widgetsnbextension~=4.0.12 in c:\\users\\semek\\pycharmprojects\\ai-powered-job-recommendation-system\\.venv\\lib\\site-packages (from ipywidgets) (4.0.13)\n",
      "Requirement already satisfied: jupyterlab-widgets~=3.0.12 in c:\\users\\semek\\pycharmprojects\\ai-powered-job-recommendation-system\\.venv\\lib\\site-packages (from ipywidgets) (3.0.13)\n",
      "Requirement already satisfied: colorama in c:\\users\\semek\\pycharmprojects\\ai-powered-job-recommendation-system\\.venv\\lib\\site-packages (from ipython>=6.1.0->ipywidgets) (0.4.6)\n",
      "Requirement already satisfied: decorator in c:\\users\\semek\\pycharmprojects\\ai-powered-job-recommendation-system\\.venv\\lib\\site-packages (from ipython>=6.1.0->ipywidgets) (5.1.1)\n",
      "Requirement already satisfied: jedi>=0.16 in c:\\users\\semek\\pycharmprojects\\ai-powered-job-recommendation-system\\.venv\\lib\\site-packages (from ipython>=6.1.0->ipywidgets) (0.19.2)\n",
      "Requirement already satisfied: matplotlib-inline in c:\\users\\semek\\pycharmprojects\\ai-powered-job-recommendation-system\\.venv\\lib\\site-packages (from ipython>=6.1.0->ipywidgets) (0.1.7)\n",
      "Requirement already satisfied: prompt_toolkit<3.1.0,>=3.0.41 in c:\\users\\semek\\pycharmprojects\\ai-powered-job-recommendation-system\\.venv\\lib\\site-packages (from ipython>=6.1.0->ipywidgets) (3.0.50)\n",
      "Requirement already satisfied: pygments>=2.4.0 in c:\\users\\semek\\pycharmprojects\\ai-powered-job-recommendation-system\\.venv\\lib\\site-packages (from ipython>=6.1.0->ipywidgets) (2.19.1)\n",
      "Requirement already satisfied: stack_data in c:\\users\\semek\\pycharmprojects\\ai-powered-job-recommendation-system\\.venv\\lib\\site-packages (from ipython>=6.1.0->ipywidgets) (0.6.3)\n",
      "Requirement already satisfied: parso<0.9.0,>=0.8.4 in c:\\users\\semek\\pycharmprojects\\ai-powered-job-recommendation-system\\.venv\\lib\\site-packages (from jedi>=0.16->ipython>=6.1.0->ipywidgets) (0.8.4)\n",
      "Requirement already satisfied: wcwidth in c:\\users\\semek\\pycharmprojects\\ai-powered-job-recommendation-system\\.venv\\lib\\site-packages (from prompt_toolkit<3.1.0,>=3.0.41->ipython>=6.1.0->ipywidgets) (0.2.13)\n",
      "Requirement already satisfied: executing>=1.2.0 in c:\\users\\semek\\pycharmprojects\\ai-powered-job-recommendation-system\\.venv\\lib\\site-packages (from stack_data->ipython>=6.1.0->ipywidgets) (2.2.0)\n",
      "Requirement already satisfied: asttokens>=2.1.0 in c:\\users\\semek\\pycharmprojects\\ai-powered-job-recommendation-system\\.venv\\lib\\site-packages (from stack_data->ipython>=6.1.0->ipywidgets) (3.0.0)\n",
      "Requirement already satisfied: pure-eval in c:\\users\\semek\\pycharmprojects\\ai-powered-job-recommendation-system\\.venv\\lib\\site-packages (from stack_data->ipython>=6.1.0->ipywidgets) (0.2.3)\n"
     ]
    }
   ],
   "execution_count": 23
  },
  {
   "metadata": {
    "ExecuteTime": {
     "end_time": "2025-02-19T13:31:20.892087Z",
     "start_time": "2025-02-19T13:31:20.886472Z"
    }
   },
   "cell_type": "code",
   "source": [
    "import ipywidgets as widgets\n",
    "from IPython.display import display\n"
   ],
   "id": "e882e40f52328a78",
   "outputs": [],
   "execution_count": 24
  },
  {
   "metadata": {
    "ExecuteTime": {
     "end_time": "2025-02-19T13:34:19.464890Z",
     "start_time": "2025-02-19T13:34:19.361978Z"
    }
   },
   "cell_type": "code",
   "source": [
    "# 📌 Create Interactive User Form\n",
    "\n",
    "# Create input widget\n",
    "user_input_widget = widgets.Textarea(\n",
    "    placeholder=\"Enter your skills, experience, and job preferences...\",\n",
    "    layout=widgets.Layout(width=\"100%\", height=\"100px\")\n",
    ")\n",
    "\n",
    "# Create a button\n",
    "recommend_button = widgets.Button(description=\"Find Jobs\")\n",
    "\n",
    "# Output display area\n",
    "output_area = widgets.Output()\n",
    "\n",
    "# Function to handle recommendations\n",
    "def on_recommend_button_clicked(b):\n",
    "    with output_area:\n",
    "        output_area.clear_output()  # Clear previous results\n",
    "        user_input = user_input_widget.value  # Get input text\n",
    "        recommendations = recommend_jobs(user_input)  # Get recommendations\n",
    "        display(recommendations.style.format({'match_percentage': '{:.2f}%'}))  # Show table\n",
    "\n",
    "# Link button click to function\n",
    "recommend_button.on_click(on_recommend_button_clicked)\n",
    "\n",
    "# Display the UI\n",
    "display(user_input_widget, recommend_button, output_area)\n",
    "\n",
    "    "
   ],
   "id": "b4803db9f0dafbd6",
   "outputs": [
    {
     "data": {
      "text/plain": [
       "Textarea(value='', layout=Layout(height='100px', width='100%'), placeholder='Enter your skills, experience, an…"
      ],
      "application/vnd.jupyter.widget-view+json": {
       "version_major": 2,
       "version_minor": 0,
       "model_id": "904e29e800094bd89ad329eb9ed1accd"
      }
     },
     "metadata": {},
     "output_type": "display_data"
    },
    {
     "data": {
      "text/plain": [
       "Button(description='Find Jobs', style=ButtonStyle())"
      ],
      "application/vnd.jupyter.widget-view+json": {
       "version_major": 2,
       "version_minor": 0,
       "model_id": "212ad6e2844a4212b86a85593492bf1b"
      }
     },
     "metadata": {},
     "output_type": "display_data"
    },
    {
     "data": {
      "text/plain": [
       "Output()"
      ],
      "application/vnd.jupyter.widget-view+json": {
       "version_major": 2,
       "version_minor": 0,
       "model_id": "ce415c9efbd44635bc998b67f633b71d"
      }
     },
     "metadata": {},
     "output_type": "display_data"
    }
   ],
   "execution_count": 28
  },
  {
   "metadata": {
    "ExecuteTime": {
     "end_time": "2025-02-19T13:37:54.574392Z",
     "start_time": "2025-02-19T13:37:54.564906Z"
    }
   },
   "cell_type": "code",
   "source": "user_input_widget.value = \"Frontend developer skilled in JavaScript, React, and CSS. Looking for UI/UX design projects.\"\n",
   "id": "f6faddee78c7d3fa",
   "outputs": [],
   "execution_count": 34
  },
  {
   "metadata": {},
   "cell_type": "markdown",
   "source": [
    "Step 5.1: Show a Bar Chart of Job Match Percentages\n",
    "\n",
    "We will:\n",
    "✅ Use Matplotlib & Seaborn to visualize top job matches.\n",
    "✅ Show a bar chart with job titles and their match percentages.\n"
   ],
   "id": "661e093c236daee5"
  },
  {
   "metadata": {
    "ExecuteTime": {
     "end_time": "2025-02-19T13:38:00.869322Z",
     "start_time": "2025-02-19T13:37:56.283044Z"
    }
   },
   "cell_type": "code",
   "source": [
    "# 📌 Install & Import Matplotlib/Seaborn\n",
    "!pip install matplotlib seaborn\n"
   ],
   "id": "fa757f118c72595",
   "outputs": [
    {
     "name": "stdout",
     "output_type": "stream",
     "text": [
      "Requirement already satisfied: matplotlib in c:\\users\\semek\\pycharmprojects\\ai-powered-job-recommendation-system\\.venv\\lib\\site-packages (3.10.0)\n",
      "Requirement already satisfied: seaborn in c:\\users\\semek\\pycharmprojects\\ai-powered-job-recommendation-system\\.venv\\lib\\site-packages (0.13.2)\n",
      "Requirement already satisfied: contourpy>=1.0.1 in c:\\users\\semek\\pycharmprojects\\ai-powered-job-recommendation-system\\.venv\\lib\\site-packages (from matplotlib) (1.3.1)\n",
      "Requirement already satisfied: cycler>=0.10 in c:\\users\\semek\\pycharmprojects\\ai-powered-job-recommendation-system\\.venv\\lib\\site-packages (from matplotlib) (0.12.1)\n",
      "Requirement already satisfied: fonttools>=4.22.0 in c:\\users\\semek\\pycharmprojects\\ai-powered-job-recommendation-system\\.venv\\lib\\site-packages (from matplotlib) (4.56.0)\n",
      "Requirement already satisfied: kiwisolver>=1.3.1 in c:\\users\\semek\\pycharmprojects\\ai-powered-job-recommendation-system\\.venv\\lib\\site-packages (from matplotlib) (1.4.8)\n",
      "Requirement already satisfied: numpy>=1.23 in c:\\users\\semek\\pycharmprojects\\ai-powered-job-recommendation-system\\.venv\\lib\\site-packages (from matplotlib) (2.2.3)\n",
      "Requirement already satisfied: packaging>=20.0 in c:\\users\\semek\\pycharmprojects\\ai-powered-job-recommendation-system\\.venv\\lib\\site-packages (from matplotlib) (24.2)\n",
      "Requirement already satisfied: pillow>=8 in c:\\users\\semek\\pycharmprojects\\ai-powered-job-recommendation-system\\.venv\\lib\\site-packages (from matplotlib) (11.1.0)\n",
      "Requirement already satisfied: pyparsing>=2.3.1 in c:\\users\\semek\\pycharmprojects\\ai-powered-job-recommendation-system\\.venv\\lib\\site-packages (from matplotlib) (3.2.1)\n",
      "Requirement already satisfied: python-dateutil>=2.7 in c:\\users\\semek\\pycharmprojects\\ai-powered-job-recommendation-system\\.venv\\lib\\site-packages (from matplotlib) (2.9.0.post0)\n",
      "Requirement already satisfied: pandas>=1.2 in c:\\users\\semek\\pycharmprojects\\ai-powered-job-recommendation-system\\.venv\\lib\\site-packages (from seaborn) (2.2.3)\n",
      "Requirement already satisfied: pytz>=2020.1 in c:\\users\\semek\\pycharmprojects\\ai-powered-job-recommendation-system\\.venv\\lib\\site-packages (from pandas>=1.2->seaborn) (2025.1)\n",
      "Requirement already satisfied: tzdata>=2022.7 in c:\\users\\semek\\pycharmprojects\\ai-powered-job-recommendation-system\\.venv\\lib\\site-packages (from pandas>=1.2->seaborn) (2025.1)\n",
      "Requirement already satisfied: six>=1.5 in c:\\users\\semek\\pycharmprojects\\ai-powered-job-recommendation-system\\.venv\\lib\\site-packages (from python-dateutil>=2.7->matplotlib) (1.17.0)\n"
     ]
    }
   ],
   "execution_count": 35
  },
  {
   "metadata": {
    "ExecuteTime": {
     "end_time": "2025-02-19T13:38:00.879917Z",
     "start_time": "2025-02-19T13:38:00.869322Z"
    }
   },
   "cell_type": "code",
   "source": [
    "import matplotlib.pyplot as plt\n",
    "import seaborn as sns\n"
   ],
   "id": "140c4301acfea5a1",
   "outputs": [],
   "execution_count": 36
  },
  {
   "metadata": {
    "ExecuteTime": {
     "end_time": "2025-02-19T13:39:02.177521Z",
     "start_time": "2025-02-19T13:39:02.141595Z"
    }
   },
   "cell_type": "code",
   "source": [
    "# 📌 Create Interactive User Form\n",
    "\n",
    "# Create input widget\n",
    "user_input_widget = widgets.Textarea(\n",
    "    placeholder=\"Enter your skills, experience, and job preferences...\",\n",
    "    layout=widgets.Layout(width=\"100%\", height=\"100px\")\n",
    ")\n",
    "\n",
    "# Create a button\n",
    "recommend_button = widgets.Button(description=\"Find Jobs\")\n",
    "\n",
    "# Output display area\n",
    "output_area = widgets.Output()\n",
    "\n",
    "# Function to handle recommendations\n",
    "def on_recommend_button_clicked(b):\n",
    "    with output_area:\n",
    "        output_area.clear_output()  # Clear previous results\n",
    "        user_input = user_input_widget.value  # Get input text\n",
    "        recommendations = recommend_jobs(user_input)  # Get recommendations\n",
    "        display(recommendations.style.format({'match_percentage': '{:.2f}%'}))  # Show table\n",
    "\n",
    "# Link button click to function\n",
    "recommend_button.on_click(on_recommend_button_clicked)\n",
    "\n",
    "# Display the UI\n",
    "display(user_input_widget, recommend_button, output_area)\n",
    "\n",
    "    "
   ],
   "id": "2a3fdbefab457113",
   "outputs": [
    {
     "data": {
      "text/plain": [
       "Textarea(value='', layout=Layout(height='100px', width='100%'), placeholder='Enter your skills, experience, an…"
      ],
      "application/vnd.jupyter.widget-view+json": {
       "version_major": 2,
       "version_minor": 0,
       "model_id": "5f92c774344a4be69cca35cb64884a5f"
      }
     },
     "metadata": {},
     "output_type": "display_data"
    },
    {
     "data": {
      "text/plain": [
       "Button(description='Find Jobs', style=ButtonStyle())"
      ],
      "application/vnd.jupyter.widget-view+json": {
       "version_major": 2,
       "version_minor": 0,
       "model_id": "620795bdffe140eab911a152c82f77fd"
      }
     },
     "metadata": {},
     "output_type": "display_data"
    },
    {
     "data": {
      "text/plain": [
       "Output()"
      ],
      "application/vnd.jupyter.widget-view+json": {
       "version_major": 2,
       "version_minor": 0,
       "model_id": "d3927fb73e1949caab48a53724365e11"
      }
     },
     "metadata": {},
     "output_type": "display_data"
    }
   ],
   "execution_count": 38
  },
  {
   "metadata": {
    "ExecuteTime": {
     "end_time": "2025-02-19T13:39:20.299300Z",
     "start_time": "2025-02-19T13:39:20.290612Z"
    }
   },
   "cell_type": "code",
   "source": [
    "def recommend_jobs(user_input, top_n=5, show_chart=True):\n",
    "    \"\"\"\n",
    "    Recommend jobs based on user input and visualize results.\n",
    "    \"\"\"\n",
    "    # Convert user input into TF-IDF vector\n",
    "    user_vector = tfidf_vectorizer.transform([user_input])\n",
    "\n",
    "    # Compute cosine similarity\n",
    "    similarity_scores = cosine_similarity(user_vector, job_vectors)\n",
    "\n",
    "    # Get top job indices\n",
    "    job_indices = similarity_scores.argsort()[0][-top_n:][::-1]\n",
    "\n",
    "    # Extract top job recommendations\n",
    "    recommended_jobs = jobs_df.iloc[job_indices].copy()\n",
    "    recommended_jobs['match_percentage'] = similarity_scores[0][job_indices] * 100\n",
    "\n",
    "    # Display Table\n",
    "    display(recommended_jobs[['title', 'link', 'match_percentage']].style.format({'match_percentage': '{:.2f}%'}))\n",
    "    \n",
    "    # Show Bar Chart\n",
    "    if show_chart:\n",
    "        plt.figure(figsize=(8, 4))\n",
    "        sns.barplot(y=recommended_jobs['title'], x=recommended_jobs['match_percentage'], palette='Blues_r')\n",
    "        plt.xlabel(\"Match Percentage\")\n",
    "        plt.ylabel(\"Job Title\")\n",
    "        plt.title(\"Top Job Recommendations\")\n",
    "        plt.xlim(0, 100)\n",
    "        plt.show()\n",
    "\n",
    "    return recommended_jobs\n"
   ],
   "id": "b56d918928075747",
   "outputs": [],
   "execution_count": 39
  },
  {
   "metadata": {},
   "cell_type": "code",
   "outputs": [],
   "execution_count": null,
   "source": "",
   "id": "a29d9f2e33e2a59f"
  },
  {
   "metadata": {},
   "cell_type": "markdown",
   "source": [
    " Step 5.2: Add Budget & Country Filters\n",
    " "
   ],
   "id": "2ecad1764effd792"
  },
  {
   "metadata": {
    "ExecuteTime": {
     "end_time": "2025-02-19T13:40:38.637845Z",
     "start_time": "2025-02-19T13:40:38.615565Z"
    }
   },
   "cell_type": "code",
   "source": [
    "def recommend_jobs(user_input, top_n=5, min_budget=0, country=None, show_chart=True):\n",
    "    \"\"\"\n",
    "    Recommend jobs based on user input with budget and country filters.\n",
    "    \"\"\"\n",
    "    # Convert user input into TF-IDF vector\n",
    "    user_vector = tfidf_vectorizer.transform([user_input])\n",
    "\n",
    "    # Compute cosine similarity\n",
    "    similarity_scores = cosine_similarity(user_vector, job_vectors)\n",
    "\n",
    "    # Get top job indices\n",
    "    job_indices = similarity_scores.argsort()[0][-top_n * 3:][::-1]  # Get more jobs to filter later\n",
    "\n",
    "    # Extract top job recommendations\n",
    "    recommended_jobs = jobs_df.iloc[job_indices].copy()\n",
    "    recommended_jobs['match_percentage'] = similarity_scores[0][job_indices] * 100\n",
    "\n",
    "    # Apply budget filter\n",
    "    recommended_jobs = recommended_jobs[recommended_jobs['budget'] >= min_budget]\n",
    "\n",
    "    # Apply country filter (if provided)\n",
    "    if country:\n",
    "        recommended_jobs = recommended_jobs[recommended_jobs['country'].str.lower() == country.lower()]\n",
    "\n",
    "    # Get the final top N results\n",
    "    recommended_jobs = recommended_jobs.head(top_n)\n",
    "\n",
    "    # Display Table\n",
    "    display(recommended_jobs[['title', 'link', 'budget', 'country', 'match_percentage']].style.format({'match_percentage': '{:.2f}%', 'budget': '${:,.0f}'}))\n",
    "\n",
    "    # Show Bar Chart\n",
    "    if show_chart and not recommended_jobs.empty:\n",
    "        plt.figure(figsize=(8, 4))\n",
    "        sns.barplot(y=recommended_jobs['title'], x=recommended_jobs['match_percentage'], palette='Blues_r')\n",
    "        plt.xlabel(\"Match Percentage\")\n",
    "        plt.ylabel(\"Job Title\")\n",
    "        plt.title(\"Top Job Recommendations\")\n",
    "        plt.xlim(0, 100)\n",
    "        plt.show()\n",
    "\n",
    "    return recommended_jobs\n"
   ],
   "id": "18095052a13405a",
   "outputs": [],
   "execution_count": 42
  },
  {
   "metadata": {
    "ExecuteTime": {
     "end_time": "2025-02-19T13:40:40.993128Z",
     "start_time": "2025-02-19T13:40:40.716954Z"
    }
   },
   "cell_type": "code",
   "source": [
    "# 📌 Create Interactive User Form\n",
    "\n",
    "# Create input widget\n",
    "user_input_widget = widgets.Textarea(\n",
    "    placeholder=\"Enter your skills, experience, and job preferences...\",\n",
    "    layout=widgets.Layout(width=\"100%\", height=\"100px\")\n",
    ")\n",
    "\n",
    "# Create a button\n",
    "recommend_button = widgets.Button(description=\"Find Jobs\")\n",
    "\n",
    "# Output display area\n",
    "output_area = widgets.Output()\n",
    "\n",
    "# Function to handle recommendations\n",
    "def on_recommend_button_clicked(b):\n",
    "    with output_area:\n",
    "        output_area.clear_output()  # Clear previous results\n",
    "        user_input = user_input_widget.value  # Get input text\n",
    "        recommendations = recommend_jobs(user_input)  # Get recommendations\n",
    "        display(recommendations.style.format({'match_percentage': '{:.2f}%'}))  # Show table\n",
    "\n",
    "# Link button click to function\n",
    "recommend_button.on_click(on_recommend_button_clicked)\n",
    "\n",
    "# Display the UI\n",
    "display(user_input_widget, recommend_button, output_area)\n",
    "\n",
    "    "
   ],
   "id": "fe788f252da8094f",
   "outputs": [
    {
     "data": {
      "text/plain": [
       "Textarea(value='', layout=Layout(height='100px', width='100%'), placeholder='Enter your skills, experience, an…"
      ],
      "application/vnd.jupyter.widget-view+json": {
       "version_major": 2,
       "version_minor": 0,
       "model_id": "c2810e40fabe415b95096319c96c6bd8"
      }
     },
     "metadata": {},
     "output_type": "display_data"
    },
    {
     "data": {
      "text/plain": [
       "Button(description='Find Jobs', style=ButtonStyle())"
      ],
      "application/vnd.jupyter.widget-view+json": {
       "version_major": 2,
       "version_minor": 0,
       "model_id": "bbd62a1d79e448ef8041612507c6b813"
      }
     },
     "metadata": {},
     "output_type": "display_data"
    },
    {
     "data": {
      "text/plain": [
       "Output()"
      ],
      "application/vnd.jupyter.widget-view+json": {
       "version_major": 2,
       "version_minor": 0,
       "model_id": "0add85b909df48b4a3360889c4832684"
      }
     },
     "metadata": {},
     "output_type": "display_data"
    }
   ],
   "execution_count": 43
  },
  {
   "metadata": {
    "ExecuteTime": {
     "end_time": "2025-02-19T13:42:35.624321Z",
     "start_time": "2025-02-19T13:42:35.607171Z"
    }
   },
   "cell_type": "code",
   "source": "",
   "id": "a51cc354e0cc19ad",
   "outputs": [],
   "execution_count": 44
  },
  {
   "metadata": {
    "ExecuteTime": {
     "end_time": "2025-02-19T13:48:26.205618Z",
     "start_time": "2025-02-19T13:48:26.197107Z"
    }
   },
   "cell_type": "code",
   "source": [
    "# # 🧠 Step 5.3: Improve Matching with Word Embeddings\n",
    "# ✅ TF-IDF only considers word frequency—it doesn’t capture meaning.\n",
    "# ✅ BERT/Word2Vec understands context & semantics, making recommendations more accurate.\n",
    "# ✅ We’ll replace TF-IDF + Cosine Similarity with Sentence Transformers (BERT)."
   ],
   "id": "9e45a4e4f923220f",
   "outputs": [],
   "execution_count": 45
  },
  {
   "metadata": {
    "ExecuteTime": {
     "end_time": "2025-02-19T13:51:52.042357Z",
     "start_time": "2025-02-19T13:48:47.219683Z"
    }
   },
   "cell_type": "code",
   "source": "!pip install sentence-transformers\n",
   "id": "e3aa9468f0dda648",
   "outputs": [
    {
     "name": "stdout",
     "output_type": "stream",
     "text": [
      "Collecting sentence-transformers\n",
      "  Downloading sentence_transformers-3.4.1-py3-none-any.whl.metadata (10 kB)\n",
      "Collecting transformers<5.0.0,>=4.41.0 (from sentence-transformers)\n",
      "  Downloading transformers-4.49.0-py3-none-any.whl.metadata (44 kB)\n",
      "Requirement already satisfied: tqdm in c:\\users\\semek\\pycharmprojects\\ai-powered-job-recommendation-system\\.venv\\lib\\site-packages (from sentence-transformers) (4.67.1)\n",
      "Collecting torch>=1.11.0 (from sentence-transformers)\n",
      "  Downloading torch-2.6.0-cp312-cp312-win_amd64.whl.metadata (28 kB)\n",
      "Requirement already satisfied: scikit-learn in c:\\users\\semek\\pycharmprojects\\ai-powered-job-recommendation-system\\.venv\\lib\\site-packages (from sentence-transformers) (1.6.1)\n",
      "Requirement already satisfied: scipy in c:\\users\\semek\\pycharmprojects\\ai-powered-job-recommendation-system\\.venv\\lib\\site-packages (from sentence-transformers) (1.15.2)\n",
      "Collecting huggingface-hub>=0.20.0 (from sentence-transformers)\n",
      "  Downloading huggingface_hub-0.29.0-py3-none-any.whl.metadata (13 kB)\n",
      "Requirement already satisfied: Pillow in c:\\users\\semek\\pycharmprojects\\ai-powered-job-recommendation-system\\.venv\\lib\\site-packages (from sentence-transformers) (11.1.0)\n",
      "Collecting filelock (from huggingface-hub>=0.20.0->sentence-transformers)\n",
      "  Downloading filelock-3.17.0-py3-none-any.whl.metadata (2.9 kB)\n",
      "Collecting fsspec>=2023.5.0 (from huggingface-hub>=0.20.0->sentence-transformers)\n",
      "  Downloading fsspec-2025.2.0-py3-none-any.whl.metadata (11 kB)\n",
      "Requirement already satisfied: packaging>=20.9 in c:\\users\\semek\\pycharmprojects\\ai-powered-job-recommendation-system\\.venv\\lib\\site-packages (from huggingface-hub>=0.20.0->sentence-transformers) (24.2)\n",
      "Requirement already satisfied: pyyaml>=5.1 in c:\\users\\semek\\pycharmprojects\\ai-powered-job-recommendation-system\\.venv\\lib\\site-packages (from huggingface-hub>=0.20.0->sentence-transformers) (6.0.2)\n",
      "Requirement already satisfied: requests in c:\\users\\semek\\pycharmprojects\\ai-powered-job-recommendation-system\\.venv\\lib\\site-packages (from huggingface-hub>=0.20.0->sentence-transformers) (2.32.3)\n",
      "Requirement already satisfied: typing-extensions>=3.7.4.3 in c:\\users\\semek\\pycharmprojects\\ai-powered-job-recommendation-system\\.venv\\lib\\site-packages (from huggingface-hub>=0.20.0->sentence-transformers) (4.12.2)\n",
      "Collecting networkx (from torch>=1.11.0->sentence-transformers)\n",
      "  Using cached networkx-3.4.2-py3-none-any.whl.metadata (6.3 kB)\n",
      "Requirement already satisfied: jinja2 in c:\\users\\semek\\pycharmprojects\\ai-powered-job-recommendation-system\\.venv\\lib\\site-packages (from torch>=1.11.0->sentence-transformers) (3.1.5)\n",
      "Requirement already satisfied: setuptools in c:\\users\\semek\\pycharmprojects\\ai-powered-job-recommendation-system\\.venv\\lib\\site-packages (from torch>=1.11.0->sentence-transformers) (75.8.0)\n",
      "Collecting sympy==1.13.1 (from torch>=1.11.0->sentence-transformers)\n",
      "  Using cached sympy-1.13.1-py3-none-any.whl.metadata (12 kB)\n",
      "Collecting mpmath<1.4,>=1.1.0 (from sympy==1.13.1->torch>=1.11.0->sentence-transformers)\n",
      "  Using cached mpmath-1.3.0-py3-none-any.whl.metadata (8.6 kB)\n",
      "Requirement already satisfied: colorama in c:\\users\\semek\\pycharmprojects\\ai-powered-job-recommendation-system\\.venv\\lib\\site-packages (from tqdm->sentence-transformers) (0.4.6)\n",
      "Requirement already satisfied: numpy>=1.17 in c:\\users\\semek\\pycharmprojects\\ai-powered-job-recommendation-system\\.venv\\lib\\site-packages (from transformers<5.0.0,>=4.41.0->sentence-transformers) (2.2.3)\n",
      "Requirement already satisfied: regex!=2019.12.17 in c:\\users\\semek\\pycharmprojects\\ai-powered-job-recommendation-system\\.venv\\lib\\site-packages (from transformers<5.0.0,>=4.41.0->sentence-transformers) (2024.11.6)\n",
      "Collecting tokenizers<0.22,>=0.21 (from transformers<5.0.0,>=4.41.0->sentence-transformers)\n",
      "  Downloading tokenizers-0.21.0-cp39-abi3-win_amd64.whl.metadata (6.9 kB)\n",
      "Collecting safetensors>=0.4.1 (from transformers<5.0.0,>=4.41.0->sentence-transformers)\n",
      "  Downloading safetensors-0.5.2-cp38-abi3-win_amd64.whl.metadata (3.9 kB)\n",
      "Requirement already satisfied: joblib>=1.2.0 in c:\\users\\semek\\pycharmprojects\\ai-powered-job-recommendation-system\\.venv\\lib\\site-packages (from scikit-learn->sentence-transformers) (1.4.2)\n",
      "Requirement already satisfied: threadpoolctl>=3.1.0 in c:\\users\\semek\\pycharmprojects\\ai-powered-job-recommendation-system\\.venv\\lib\\site-packages (from scikit-learn->sentence-transformers) (3.5.0)\n",
      "Requirement already satisfied: MarkupSafe>=2.0 in c:\\users\\semek\\pycharmprojects\\ai-powered-job-recommendation-system\\.venv\\lib\\site-packages (from jinja2->torch>=1.11.0->sentence-transformers) (3.0.2)\n",
      "Requirement already satisfied: charset-normalizer<4,>=2 in c:\\users\\semek\\pycharmprojects\\ai-powered-job-recommendation-system\\.venv\\lib\\site-packages (from requests->huggingface-hub>=0.20.0->sentence-transformers) (3.4.1)\n",
      "Requirement already satisfied: idna<4,>=2.5 in c:\\users\\semek\\pycharmprojects\\ai-powered-job-recommendation-system\\.venv\\lib\\site-packages (from requests->huggingface-hub>=0.20.0->sentence-transformers) (3.10)\n",
      "Requirement already satisfied: urllib3<3,>=1.21.1 in c:\\users\\semek\\pycharmprojects\\ai-powered-job-recommendation-system\\.venv\\lib\\site-packages (from requests->huggingface-hub>=0.20.0->sentence-transformers) (2.3.0)\n",
      "Requirement already satisfied: certifi>=2017.4.17 in c:\\users\\semek\\pycharmprojects\\ai-powered-job-recommendation-system\\.venv\\lib\\site-packages (from requests->huggingface-hub>=0.20.0->sentence-transformers) (2025.1.31)\n",
      "Downloading sentence_transformers-3.4.1-py3-none-any.whl (275 kB)\n",
      "Downloading huggingface_hub-0.29.0-py3-none-any.whl (468 kB)\n",
      "Downloading torch-2.6.0-cp312-cp312-win_amd64.whl (204.1 MB)\n",
      "   ---------------------------------------- 0.0/204.1 MB ? eta -:--:--\n",
      "   ---------------------------------------- 0.0/204.1 MB ? eta -:--:--\n",
      "   ---------------------------------------- 0.0/204.1 MB ? eta -:--:--\n",
      "   ---------------------------------------- 0.0/204.1 MB ? eta -:--:--\n",
      "   ---------------------------------------- 0.0/204.1 MB ? eta -:--:--\n",
      "   ---------------------------------------- 0.0/204.1 MB ? eta -:--:--\n",
      "   ---------------------------------------- 0.3/204.1 MB ? eta -:--:--\n",
      "   ---------------------------------------- 0.3/204.1 MB ? eta -:--:--\n",
      "   ---------------------------------------- 0.3/204.1 MB ? eta -:--:--\n",
      "   ---------------------------------------- 0.3/204.1 MB ? eta -:--:--\n",
      "   ---------------------------------------- 0.3/204.1 MB ? eta -:--:--\n",
      "   ---------------------------------------- 0.5/204.1 MB 258.0 kB/s eta 0:13:10\n",
      "   ---------------------------------------- 0.5/204.1 MB 258.0 kB/s eta 0:13:10\n",
      "   ---------------------------------------- 0.5/204.1 MB 258.0 kB/s eta 0:13:10\n",
      "   ---------------------------------------- 0.5/204.1 MB 258.0 kB/s eta 0:13:10\n",
      "   ---------------------------------------- 0.8/204.1 MB 264.1 kB/s eta 0:12:50\n",
      "   ---------------------------------------- 0.8/204.1 MB 264.1 kB/s eta 0:12:50\n",
      "   ---------------------------------------- 0.8/204.1 MB 264.1 kB/s eta 0:12:50\n",
      "   ---------------------------------------- 0.8/204.1 MB 264.1 kB/s eta 0:12:50\n",
      "   ---------------------------------------- 0.8/204.1 MB 264.1 kB/s eta 0:12:50\n",
      "   ---------------------------------------- 0.8/204.1 MB 264.1 kB/s eta 0:12:50\n",
      "   ---------------------------------------- 0.8/204.1 MB 264.1 kB/s eta 0:12:50\n",
      "   ---------------------------------------- 1.0/204.1 MB 235.2 kB/s eta 0:14:24\n",
      "   ---------------------------------------- 1.0/204.1 MB 235.2 kB/s eta 0:14:24\n",
      "   ---------------------------------------- 1.0/204.1 MB 235.2 kB/s eta 0:14:24\n",
      "   ---------------------------------------- 1.0/204.1 MB 235.2 kB/s eta 0:14:24\n",
      "   ---------------------------------------- 1.3/204.1 MB 251.3 kB/s eta 0:13:27\n",
      "   ---------------------------------------- 1.3/204.1 MB 251.3 kB/s eta 0:13:27\n",
      "   ---------------------------------------- 1.3/204.1 MB 251.3 kB/s eta 0:13:27\n",
      "   ---------------------------------------- 1.6/204.1 MB 271.4 kB/s eta 0:12:27\n",
      "   ---------------------------------------- 1.6/204.1 MB 271.4 kB/s eta 0:12:27\n",
      "   ---------------------------------------- 1.6/204.1 MB 271.4 kB/s eta 0:12:27\n",
      "   ---------------------------------------- 1.8/204.1 MB 289.2 kB/s eta 0:11:40\n",
      "   ---------------------------------------- 1.8/204.1 MB 289.2 kB/s eta 0:11:40\n",
      "   ---------------------------------------- 1.8/204.1 MB 289.2 kB/s eta 0:11:40\n",
      "   ---------------------------------------- 2.1/204.1 MB 305.0 kB/s eta 0:11:03\n",
      "   ---------------------------------------- 2.1/204.1 MB 305.0 kB/s eta 0:11:03\n",
      "   ---------------------------------------- 2.4/204.1 MB 325.7 kB/s eta 0:10:20\n",
      "   ---------------------------------------- 2.4/204.1 MB 325.7 kB/s eta 0:10:20\n",
      "    --------------------------------------- 2.6/204.1 MB 345.5 kB/s eta 0:09:44\n",
      "    --------------------------------------- 2.6/204.1 MB 345.5 kB/s eta 0:09:44\n",
      "    --------------------------------------- 2.9/204.1 MB 361.6 kB/s eta 0:09:17\n",
      "    --------------------------------------- 2.9/204.1 MB 361.6 kB/s eta 0:09:17\n",
      "    --------------------------------------- 3.1/204.1 MB 377.4 kB/s eta 0:08:53\n",
      "    --------------------------------------- 3.7/204.1 MB 410.7 kB/s eta 0:08:09\n",
      "    --------------------------------------- 3.7/204.1 MB 410.7 kB/s eta 0:08:09\n",
      "    --------------------------------------- 3.9/204.1 MB 426.2 kB/s eta 0:07:50\n",
      "    --------------------------------------- 4.5/204.1 MB 455.7 kB/s eta 0:07:19\n",
      "    --------------------------------------- 5.0/204.1 MB 480.1 kB/s eta 0:06:55\n",
      "   - -------------------------------------- 5.2/204.1 MB 495.7 kB/s eta 0:06:42\n",
      "   - -------------------------------------- 5.2/204.1 MB 495.7 kB/s eta 0:06:42\n",
      "   - -------------------------------------- 5.5/204.1 MB 506.1 kB/s eta 0:06:33\n",
      "   - -------------------------------------- 5.8/204.1 MB 518.9 kB/s eta 0:06:23\n",
      "   - -------------------------------------- 6.0/204.1 MB 527.3 kB/s eta 0:06:16\n",
      "   - -------------------------------------- 6.0/204.1 MB 527.3 kB/s eta 0:06:16\n",
      "   - -------------------------------------- 6.3/204.1 MB 537.4 kB/s eta 0:06:09\n",
      "   - -------------------------------------- 6.6/204.1 MB 547.1 kB/s eta 0:06:02\n",
      "   - -------------------------------------- 6.8/204.1 MB 556.2 kB/s eta 0:05:55\n",
      "   - -------------------------------------- 6.8/204.1 MB 556.2 kB/s eta 0:05:55\n",
      "   - -------------------------------------- 7.1/204.1 MB 564.3 kB/s eta 0:05:50\n",
      "   - -------------------------------------- 7.3/204.1 MB 572.6 kB/s eta 0:05:44\n",
      "   - -------------------------------------- 7.3/204.1 MB 572.6 kB/s eta 0:05:44\n",
      "   - -------------------------------------- 7.6/204.1 MB 581.4 kB/s eta 0:05:39\n",
      "   - -------------------------------------- 7.9/204.1 MB 588.3 kB/s eta 0:05:34\n",
      "   - -------------------------------------- 8.1/204.1 MB 594.9 kB/s eta 0:05:30\n",
      "   - -------------------------------------- 8.1/204.1 MB 594.9 kB/s eta 0:05:30\n",
      "   - -------------------------------------- 8.4/204.1 MB 602.0 kB/s eta 0:05:26\n",
      "   - -------------------------------------- 8.7/204.1 MB 608.7 kB/s eta 0:05:22\n",
      "   - -------------------------------------- 8.9/204.1 MB 615.1 kB/s eta 0:05:18\n",
      "   - -------------------------------------- 8.9/204.1 MB 615.1 kB/s eta 0:05:18\n",
      "   - -------------------------------------- 9.2/204.1 MB 621.4 kB/s eta 0:05:14\n",
      "   - -------------------------------------- 9.4/204.1 MB 626.7 kB/s eta 0:05:11\n",
      "   - -------------------------------------- 9.4/204.1 MB 626.7 kB/s eta 0:05:11\n",
      "   - -------------------------------------- 9.7/204.1 MB 632.4 kB/s eta 0:05:08\n",
      "   - ------------------------------------- 10.0/204.1 MB 638.6 kB/s eta 0:05:05\n",
      "   - ------------------------------------- 10.2/204.1 MB 644.6 kB/s eta 0:05:01\n",
      "   - ------------------------------------- 10.2/204.1 MB 644.6 kB/s eta 0:05:01\n",
      "   -- ------------------------------------ 10.5/204.1 MB 649.1 kB/s eta 0:04:59\n",
      "   -- ------------------------------------ 10.7/204.1 MB 654.7 kB/s eta 0:04:56\n",
      "   -- ------------------------------------ 11.0/204.1 MB 659.5 kB/s eta 0:04:53\n",
      "   -- ------------------------------------ 11.0/204.1 MB 659.5 kB/s eta 0:04:53\n",
      "   -- ------------------------------------ 11.3/204.1 MB 665.4 kB/s eta 0:04:50\n",
      "   -- ------------------------------------ 11.5/204.1 MB 670.4 kB/s eta 0:04:48\n",
      "   -- ------------------------------------ 11.8/204.1 MB 675.4 kB/s eta 0:04:45\n",
      "   -- ------------------------------------ 12.1/204.1 MB 680.7 kB/s eta 0:04:43\n",
      "   -- ------------------------------------ 12.1/204.1 MB 680.7 kB/s eta 0:04:43\n",
      "   -- ------------------------------------ 12.3/204.1 MB 685.4 kB/s eta 0:04:40\n",
      "   -- ------------------------------------ 12.6/204.1 MB 690.5 kB/s eta 0:04:38\n",
      "   -- ------------------------------------ 12.8/204.1 MB 696.0 kB/s eta 0:04:35\n",
      "   -- ------------------------------------ 13.1/204.1 MB 702.0 kB/s eta 0:04:33\n",
      "   -- ------------------------------------ 13.4/204.1 MB 707.3 kB/s eta 0:04:30\n",
      "   -- ------------------------------------ 13.6/204.1 MB 713.0 kB/s eta 0:04:28\n",
      "   -- ------------------------------------ 13.9/204.1 MB 718.6 kB/s eta 0:04:25\n",
      "   -- ------------------------------------ 14.2/204.1 MB 724.7 kB/s eta 0:04:23\n",
      "   -- ------------------------------------ 14.4/204.1 MB 730.6 kB/s eta 0:04:20\n",
      "   -- ------------------------------------ 14.7/204.1 MB 735.8 kB/s eta 0:04:18\n",
      "   -- ------------------------------------ 14.9/204.1 MB 742.1 kB/s eta 0:04:15\n",
      "   -- ------------------------------------ 15.2/204.1 MB 748.8 kB/s eta 0:04:13\n",
      "   -- ------------------------------------ 15.5/204.1 MB 754.9 kB/s eta 0:04:10\n",
      "   --- ----------------------------------- 15.7/204.1 MB 760.8 kB/s eta 0:04:08\n",
      "   --- ----------------------------------- 16.0/204.1 MB 767.2 kB/s eta 0:04:06\n",
      "   --- ----------------------------------- 16.5/204.1 MB 780.3 kB/s eta 0:04:01\n",
      "   --- ----------------------------------- 16.8/204.1 MB 787.0 kB/s eta 0:03:59\n",
      "   --- ----------------------------------- 17.0/204.1 MB 793.6 kB/s eta 0:03:56\n",
      "   --- ----------------------------------- 17.6/204.1 MB 807.0 kB/s eta 0:03:52\n",
      "   --- ----------------------------------- 17.8/204.1 MB 814.5 kB/s eta 0:03:49\n",
      "   --- ----------------------------------- 18.4/204.1 MB 827.4 kB/s eta 0:03:45\n",
      "   --- ----------------------------------- 18.6/204.1 MB 835.3 kB/s eta 0:03:43\n",
      "   --- ----------------------------------- 19.1/204.1 MB 849.5 kB/s eta 0:03:38\n",
      "   --- ----------------------------------- 19.7/204.1 MB 862.7 kB/s eta 0:03:34\n",
      "   --- ----------------------------------- 20.2/204.1 MB 877.5 kB/s eta 0:03:30\n",
      "   --- ----------------------------------- 20.4/204.1 MB 884.2 kB/s eta 0:03:28\n",
      "   ---- ---------------------------------- 21.0/204.1 MB 899.2 kB/s eta 0:03:24\n",
      "   ---- ---------------------------------- 21.5/204.1 MB 912.6 kB/s eta 0:03:21\n",
      "   ---- ---------------------------------- 22.0/204.1 MB 927.7 kB/s eta 0:03:17\n",
      "   ---- ---------------------------------- 22.5/204.1 MB 941.9 kB/s eta 0:03:13\n",
      "   ---- ---------------------------------- 23.3/204.1 MB 964.3 kB/s eta 0:03:08\n",
      "   ---- ---------------------------------- 23.9/204.1 MB 977.9 kB/s eta 0:03:05\n",
      "   ---- ---------------------------------- 24.4/204.1 MB 990.7 kB/s eta 0:03:02\n",
      "   ---- ----------------------------------- 24.9/204.1 MB 1.0 MB/s eta 0:02:59\n",
      "   ----- ---------------------------------- 25.7/204.1 MB 1.0 MB/s eta 0:02:54\n",
      "   ----- ---------------------------------- 26.2/204.1 MB 1.0 MB/s eta 0:02:51\n",
      "   ----- ---------------------------------- 27.0/204.1 MB 1.1 MB/s eta 0:02:47\n",
      "   ----- ---------------------------------- 27.5/204.1 MB 1.1 MB/s eta 0:02:45\n",
      "   ----- ---------------------------------- 28.3/204.1 MB 1.1 MB/s eta 0:02:41\n",
      "   ----- ---------------------------------- 29.1/204.1 MB 1.1 MB/s eta 0:02:37\n",
      "   ----- ---------------------------------- 29.9/204.1 MB 1.1 MB/s eta 0:02:33\n",
      "   ------ --------------------------------- 30.9/204.1 MB 1.2 MB/s eta 0:02:28\n",
      "   ------ --------------------------------- 31.7/204.1 MB 1.2 MB/s eta 0:02:25\n",
      "   ------ --------------------------------- 32.5/204.1 MB 1.2 MB/s eta 0:02:22\n",
      "   ------ --------------------------------- 33.6/204.1 MB 1.2 MB/s eta 0:02:18\n",
      "   ------ --------------------------------- 34.6/204.1 MB 1.3 MB/s eta 0:02:14\n",
      "   ------ --------------------------------- 35.4/204.1 MB 1.3 MB/s eta 0:02:11\n",
      "   ------- -------------------------------- 36.4/204.1 MB 1.3 MB/s eta 0:02:08\n",
      "   ------- -------------------------------- 37.2/204.1 MB 1.3 MB/s eta 0:02:05\n",
      "   ------- -------------------------------- 38.3/204.1 MB 1.4 MB/s eta 0:02:02\n",
      "   ------- -------------------------------- 39.1/204.1 MB 1.4 MB/s eta 0:02:00\n",
      "   ------- -------------------------------- 39.8/204.1 MB 1.4 MB/s eta 0:01:58\n",
      "   ------- -------------------------------- 40.6/204.1 MB 1.4 MB/s eta 0:01:56\n",
      "   -------- ------------------------------- 41.7/204.1 MB 1.4 MB/s eta 0:01:53\n",
      "   -------- ------------------------------- 42.2/204.1 MB 1.5 MB/s eta 0:01:52\n",
      "   -------- ------------------------------- 43.5/204.1 MB 1.5 MB/s eta 0:01:49\n",
      "   -------- ------------------------------- 44.3/204.1 MB 1.5 MB/s eta 0:01:47\n",
      "   -------- ------------------------------- 45.4/204.1 MB 1.5 MB/s eta 0:01:44\n",
      "   --------- ------------------------------ 46.1/204.1 MB 1.5 MB/s eta 0:01:43\n",
      "   --------- ------------------------------ 47.2/204.1 MB 1.6 MB/s eta 0:01:40\n",
      "   --------- ------------------------------ 48.2/204.1 MB 1.6 MB/s eta 0:01:36\n",
      "   --------- ------------------------------ 48.8/204.1 MB 1.6 MB/s eta 0:01:35\n",
      "   --------- ------------------------------ 49.8/204.1 MB 1.7 MB/s eta 0:01:33\n",
      "   --------- ------------------------------ 50.9/204.1 MB 1.7 MB/s eta 0:01:31\n",
      "   ---------- ----------------------------- 51.6/204.1 MB 1.7 MB/s eta 0:01:30\n",
      "   ---------- ----------------------------- 52.7/204.1 MB 1.8 MB/s eta 0:01:25\n",
      "   ---------- ----------------------------- 53.7/204.1 MB 1.8 MB/s eta 0:01:24\n",
      "   ---------- ----------------------------- 54.5/204.1 MB 1.8 MB/s eta 0:01:23\n",
      "   ---------- ----------------------------- 55.6/204.1 MB 1.8 MB/s eta 0:01:21\n",
      "   ----------- ---------------------------- 56.4/204.1 MB 1.9 MB/s eta 0:01:20\n",
      "   ----------- ---------------------------- 56.9/204.1 MB 1.9 MB/s eta 0:01:16\n",
      "   ----------- ---------------------------- 56.9/204.1 MB 1.9 MB/s eta 0:01:16\n",
      "   ----------- ---------------------------- 56.9/204.1 MB 1.9 MB/s eta 0:01:16\n",
      "   ----------- ---------------------------- 56.9/204.1 MB 1.9 MB/s eta 0:01:16\n",
      "   ----------- ---------------------------- 56.9/204.1 MB 1.9 MB/s eta 0:01:16\n",
      "   ----------- ---------------------------- 56.9/204.1 MB 1.9 MB/s eta 0:01:16\n",
      "   ----------- ---------------------------- 61.1/204.1 MB 2.0 MB/s eta 0:01:12\n",
      "   ----------- ---------------------------- 61.1/204.1 MB 2.0 MB/s eta 0:01:12\n",
      "   ------------ --------------------------- 61.6/204.1 MB 2.0 MB/s eta 0:01:10\n",
      "   ------------ --------------------------- 62.1/204.1 MB 2.0 MB/s eta 0:01:10\n",
      "   ------------ --------------------------- 63.2/204.1 MB 2.1 MB/s eta 0:01:08\n",
      "   ------------ --------------------------- 64.0/204.1 MB 2.1 MB/s eta 0:01:07\n",
      "   ------------ --------------------------- 64.7/204.1 MB 2.1 MB/s eta 0:01:06\n",
      "   ------------ --------------------------- 65.8/204.1 MB 2.1 MB/s eta 0:01:05\n",
      "   ------------- -------------------------- 66.6/204.1 MB 2.2 MB/s eta 0:01:03\n",
      "   ------------- -------------------------- 67.4/204.1 MB 2.2 MB/s eta 0:01:03\n",
      "   ------------- -------------------------- 68.2/204.1 MB 2.2 MB/s eta 0:01:02\n",
      "   ------------- -------------------------- 68.9/204.1 MB 2.3 MB/s eta 0:01:00\n",
      "   ------------- -------------------------- 68.9/204.1 MB 2.3 MB/s eta 0:01:00\n",
      "   ------------- -------------------------- 68.9/204.1 MB 2.3 MB/s eta 0:01:00\n",
      "   ------------- -------------------------- 68.9/204.1 MB 2.3 MB/s eta 0:01:00\n",
      "   ------------- -------------------------- 68.9/204.1 MB 2.3 MB/s eta 0:01:00\n",
      "   ------------- -------------------------- 68.9/204.1 MB 2.3 MB/s eta 0:01:00\n",
      "   -------------- ------------------------- 73.1/204.1 MB 2.4 MB/s eta 0:00:56\n",
      "   -------------- ------------------------- 73.1/204.1 MB 2.4 MB/s eta 0:00:56\n",
      "   -------------- ------------------------- 73.9/204.1 MB 2.4 MB/s eta 0:00:55\n",
      "   -------------- ------------------------- 74.4/204.1 MB 2.4 MB/s eta 0:00:55\n",
      "   -------------- ------------------------- 75.5/204.1 MB 2.4 MB/s eta 0:00:53\n",
      "   --------------- ------------------------ 76.5/204.1 MB 2.4 MB/s eta 0:00:53\n",
      "   --------------- ------------------------ 77.3/204.1 MB 2.5 MB/s eta 0:00:52\n",
      "   --------------- ------------------------ 78.6/204.1 MB 2.5 MB/s eta 0:00:50\n",
      "   --------------- ------------------------ 79.4/204.1 MB 2.5 MB/s eta 0:00:50\n",
      "   --------------- ------------------------ 80.5/204.1 MB 2.6 MB/s eta 0:00:49\n",
      "   --------------- ------------------------ 81.5/204.1 MB 2.6 MB/s eta 0:00:48\n",
      "   ---------------- ----------------------- 82.3/204.1 MB 2.6 MB/s eta 0:00:47\n",
      "   ---------------- ----------------------- 83.4/204.1 MB 2.6 MB/s eta 0:00:46\n",
      "   ---------------- ----------------------- 84.1/204.1 MB 2.7 MB/s eta 0:00:46\n",
      "   ---------------- ----------------------- 85.2/204.1 MB 2.7 MB/s eta 0:00:45\n",
      "   ---------------- ----------------------- 86.2/204.1 MB 2.7 MB/s eta 0:00:44\n",
      "   ----------------- ---------------------- 87.3/204.1 MB 2.7 MB/s eta 0:00:43\n",
      "   ----------------- ---------------------- 88.3/204.1 MB 2.8 MB/s eta 0:00:42\n",
      "   ----------------- ---------------------- 89.1/204.1 MB 2.8 MB/s eta 0:00:42\n",
      "   ----------------- ---------------------- 89.7/204.1 MB 2.8 MB/s eta 0:00:41\n",
      "   ----------------- ---------------------- 90.7/204.1 MB 2.8 MB/s eta 0:00:41\n",
      "   ----------------- ---------------------- 91.2/204.1 MB 2.8 MB/s eta 0:00:40\n",
      "   ------------------ --------------------- 92.3/204.1 MB 2.9 MB/s eta 0:00:40\n",
      "   ------------------ --------------------- 93.3/204.1 MB 2.9 MB/s eta 0:00:39\n",
      "   ------------------ --------------------- 94.1/204.1 MB 2.9 MB/s eta 0:00:38\n",
      "   ------------------ --------------------- 95.2/204.1 MB 2.9 MB/s eta 0:00:38\n",
      "   ------------------ --------------------- 95.9/204.1 MB 3.0 MB/s eta 0:00:37\n",
      "   ------------------- -------------------- 97.0/204.1 MB 3.0 MB/s eta 0:00:36\n",
      "   ------------------- -------------------- 97.8/204.1 MB 3.0 MB/s eta 0:00:36\n",
      "   ------------------- -------------------- 98.8/204.1 MB 3.0 MB/s eta 0:00:35\n",
      "   ------------------- -------------------- 99.6/204.1 MB 3.1 MB/s eta 0:00:35\n",
      "   ------------------- -------------------- 100.4/204.1 MB 3.1 MB/s eta 0:00:34\n",
      "   ------------------- -------------------- 101.2/204.1 MB 3.1 MB/s eta 0:00:34\n",
      "   -------------------- ------------------- 102.2/204.1 MB 3.1 MB/s eta 0:00:33\n",
      "   -------------------- ------------------- 103.3/204.1 MB 3.2 MB/s eta 0:00:32\n",
      "   -------------------- ------------------- 104.3/204.1 MB 3.2 MB/s eta 0:00:32\n",
      "   -------------------- ------------------- 104.9/204.1 MB 3.2 MB/s eta 0:00:32\n",
      "   -------------------- ------------------- 105.9/204.1 MB 3.2 MB/s eta 0:00:31\n",
      "   -------------------- ------------------- 106.4/204.1 MB 3.2 MB/s eta 0:00:31\n",
      "   -------------------- ------------------- 107.0/204.1 MB 3.3 MB/s eta 0:00:30\n",
      "   --------------------- ------------------ 108.0/204.1 MB 3.3 MB/s eta 0:00:30\n",
      "   --------------------- ------------------ 108.8/204.1 MB 3.3 MB/s eta 0:00:29\n",
      "   --------------------- ------------------ 109.8/204.1 MB 3.3 MB/s eta 0:00:29\n",
      "   --------------------- ------------------ 110.6/204.1 MB 3.3 MB/s eta 0:00:29\n",
      "   --------------------- ------------------ 111.7/204.1 MB 3.4 MB/s eta 0:00:28\n",
      "   ---------------------- ----------------- 112.5/204.1 MB 3.4 MB/s eta 0:00:28\n",
      "   ---------------------- ----------------- 113.2/204.1 MB 3.4 MB/s eta 0:00:27\n",
      "   ---------------------- ----------------- 114.3/204.1 MB 3.4 MB/s eta 0:00:27\n",
      "   ---------------------- ----------------- 115.1/204.1 MB 3.5 MB/s eta 0:00:26\n",
      "   ---------------------- ----------------- 115.6/204.1 MB 3.5 MB/s eta 0:00:26\n",
      "   ---------------------- ----------------- 116.4/204.1 MB 3.5 MB/s eta 0:00:26\n",
      "   ---------------------- ----------------- 117.2/204.1 MB 3.5 MB/s eta 0:00:25\n",
      "   ----------------------- ---------------- 118.2/204.1 MB 3.5 MB/s eta 0:00:25\n",
      "   ----------------------- ---------------- 119.0/204.1 MB 3.5 MB/s eta 0:00:24\n",
      "   ----------------------- ---------------- 120.1/204.1 MB 3.6 MB/s eta 0:00:24\n",
      "   ----------------------- ---------------- 121.1/204.1 MB 3.6 MB/s eta 0:00:24\n",
      "   ----------------------- ---------------- 121.9/204.1 MB 3.6 MB/s eta 0:00:23\n",
      "   ------------------------ --------------- 122.9/204.1 MB 3.7 MB/s eta 0:00:23\n",
      "   ------------------------ --------------- 124.0/204.1 MB 3.7 MB/s eta 0:00:22\n",
      "   ------------------------ --------------- 125.0/204.1 MB 3.7 MB/s eta 0:00:22\n",
      "   ------------------------ --------------- 125.8/204.1 MB 3.7 MB/s eta 0:00:22\n",
      "   ------------------------ --------------- 126.4/204.1 MB 3.7 MB/s eta 0:00:21\n",
      "   ------------------------ --------------- 127.1/204.1 MB 3.7 MB/s eta 0:00:21\n",
      "   ------------------------- -------------- 127.9/204.1 MB 3.8 MB/s eta 0:00:21\n",
      "   ------------------------- -------------- 128.7/204.1 MB 3.8 MB/s eta 0:00:20\n",
      "   ------------------------- -------------- 129.5/204.1 MB 3.8 MB/s eta 0:00:20\n",
      "   ------------------------- -------------- 130.3/204.1 MB 3.8 MB/s eta 0:00:20\n",
      "   ------------------------- -------------- 130.8/204.1 MB 3.8 MB/s eta 0:00:20\n",
      "   ------------------------- -------------- 131.6/204.1 MB 3.8 MB/s eta 0:00:19\n",
      "   ------------------------- -------------- 132.4/204.1 MB 3.9 MB/s eta 0:00:19\n",
      "   ------------------------- -------------- 132.6/204.1 MB 3.9 MB/s eta 0:00:19\n",
      "   ------------------------- -------------- 132.6/204.1 MB 3.9 MB/s eta 0:00:19\n",
      "   ------------------------- -------------- 132.6/204.1 MB 3.9 MB/s eta 0:00:19\n",
      "   ------------------------- -------------- 132.6/204.1 MB 3.9 MB/s eta 0:00:19\n",
      "   ------------------------- -------------- 132.6/204.1 MB 3.9 MB/s eta 0:00:19\n",
      "   -------------------------- ------------- 132.9/204.1 MB 3.8 MB/s eta 0:00:19\n",
      "   -------------------------- ------------- 136.8/204.1 MB 3.9 MB/s eta 0:00:18\n",
      "   -------------------------- ------------- 136.8/204.1 MB 3.9 MB/s eta 0:00:18\n",
      "   -------------------------- ------------- 137.4/204.1 MB 3.9 MB/s eta 0:00:18\n",
      "   --------------------------- ------------ 138.1/204.1 MB 3.9 MB/s eta 0:00:17\n",
      "   --------------------------- ------------ 138.9/204.1 MB 3.9 MB/s eta 0:00:17\n",
      "   --------------------------- ------------ 139.5/204.1 MB 3.9 MB/s eta 0:00:17\n",
      "   --------------------------- ------------ 140.2/204.1 MB 3.9 MB/s eta 0:00:17\n",
      "   --------------------------- ------------ 141.3/204.1 MB 3.9 MB/s eta 0:00:17\n",
      "   --------------------------- ------------ 142.1/204.1 MB 3.9 MB/s eta 0:00:16\n",
      "   --------------------------- ------------ 142.6/204.1 MB 3.9 MB/s eta 0:00:16\n",
      "   ---------------------------- ----------- 143.4/204.1 MB 3.9 MB/s eta 0:00:16\n",
      "   ---------------------------- ----------- 144.2/204.1 MB 3.9 MB/s eta 0:00:16\n",
      "   ---------------------------- ----------- 145.0/204.1 MB 3.9 MB/s eta 0:00:16\n",
      "   ---------------------------- ----------- 145.8/204.1 MB 3.9 MB/s eta 0:00:15\n",
      "   ---------------------------- ----------- 146.5/204.1 MB 3.9 MB/s eta 0:00:15\n",
      "   ---------------------------- ----------- 147.1/204.1 MB 3.9 MB/s eta 0:00:15\n",
      "   ----------------------------- ---------- 148.1/204.1 MB 3.9 MB/s eta 0:00:15\n",
      "   ----------------------------- ---------- 148.6/204.1 MB 3.9 MB/s eta 0:00:15\n",
      "   ----------------------------- ---------- 149.4/204.1 MB 3.9 MB/s eta 0:00:14\n",
      "   ----------------------------- ---------- 149.9/204.1 MB 3.9 MB/s eta 0:00:14\n",
      "   ----------------------------- ---------- 151.0/204.1 MB 3.9 MB/s eta 0:00:14\n",
      "   ----------------------------- ---------- 151.5/204.1 MB 3.9 MB/s eta 0:00:14\n",
      "   ----------------------------- ---------- 152.3/204.1 MB 3.9 MB/s eta 0:00:14\n",
      "   ------------------------------ --------- 153.1/204.1 MB 3.9 MB/s eta 0:00:14\n",
      "   ------------------------------ --------- 153.9/204.1 MB 3.9 MB/s eta 0:00:13\n",
      "   ------------------------------ --------- 154.1/204.1 MB 3.9 MB/s eta 0:00:13\n",
      "   ------------------------------ --------- 154.4/204.1 MB 3.9 MB/s eta 0:00:13\n",
      "   ------------------------------ --------- 154.4/204.1 MB 3.9 MB/s eta 0:00:13\n",
      "   ------------------------------ --------- 154.4/204.1 MB 3.9 MB/s eta 0:00:13\n",
      "   ------------------------------ --------- 154.4/204.1 MB 3.9 MB/s eta 0:00:13\n",
      "   ------------------------------- -------- 158.3/204.1 MB 3.9 MB/s eta 0:00:12\n",
      "   ------------------------------- -------- 158.6/204.1 MB 3.9 MB/s eta 0:00:12\n",
      "   ------------------------------- -------- 159.4/204.1 MB 3.8 MB/s eta 0:00:12\n",
      "   ------------------------------- -------- 159.9/204.1 MB 3.8 MB/s eta 0:00:12\n",
      "   ------------------------------- -------- 160.7/204.1 MB 3.8 MB/s eta 0:00:12\n",
      "   ------------------------------- -------- 161.5/204.1 MB 3.8 MB/s eta 0:00:12\n",
      "   ------------------------------- -------- 162.3/204.1 MB 3.8 MB/s eta 0:00:12\n",
      "   ------------------------------- -------- 162.8/204.1 MB 3.8 MB/s eta 0:00:11\n",
      "   -------------------------------- ------- 163.3/204.1 MB 3.8 MB/s eta 0:00:11\n",
      "   -------------------------------- ------- 164.1/204.1 MB 3.8 MB/s eta 0:00:11\n",
      "   -------------------------------- ------- 164.9/204.1 MB 3.8 MB/s eta 0:00:11\n",
      "   -------------------------------- ------- 165.2/204.1 MB 3.8 MB/s eta 0:00:11\n",
      "   -------------------------------- ------- 165.7/204.1 MB 3.7 MB/s eta 0:00:11\n",
      "   -------------------------------- ------- 166.5/204.1 MB 3.7 MB/s eta 0:00:11\n",
      "   -------------------------------- ------- 167.2/204.1 MB 3.7 MB/s eta 0:00:10\n",
      "   -------------------------------- ------- 168.0/204.1 MB 3.7 MB/s eta 0:00:10\n",
      "   --------------------------------- ------ 168.8/204.1 MB 3.9 MB/s eta 0:00:10\n",
      "   --------------------------------- ------ 169.3/204.1 MB 3.9 MB/s eta 0:00:09\n",
      "   --------------------------------- ------ 169.9/204.1 MB 3.9 MB/s eta 0:00:09\n",
      "   --------------------------------- ------ 170.1/204.1 MB 3.8 MB/s eta 0:00:09\n",
      "   --------------------------------- ------ 170.1/204.1 MB 3.8 MB/s eta 0:00:09\n",
      "   --------------------------------- ------ 170.1/204.1 MB 3.8 MB/s eta 0:00:09\n",
      "   --------------------------------- ------ 170.1/204.1 MB 3.8 MB/s eta 0:00:09\n",
      "   --------------------------------- ------ 170.1/204.1 MB 3.8 MB/s eta 0:00:09\n",
      "   --------------------------------- ------ 173.3/204.1 MB 3.7 MB/s eta 0:00:09\n",
      "   ---------------------------------- ----- 174.1/204.1 MB 3.7 MB/s eta 0:00:09\n",
      "   ---------------------------------- ----- 174.6/204.1 MB 3.7 MB/s eta 0:00:08\n",
      "   ---------------------------------- ----- 175.1/204.1 MB 3.7 MB/s eta 0:00:08\n",
      "   ---------------------------------- ----- 175.9/204.1 MB 3.7 MB/s eta 0:00:08\n",
      "   ---------------------------------- ----- 176.4/204.1 MB 3.7 MB/s eta 0:00:08\n",
      "   ---------------------------------- ----- 177.2/204.1 MB 3.7 MB/s eta 0:00:08\n",
      "   ---------------------------------- ----- 177.5/204.1 MB 3.7 MB/s eta 0:00:08\n",
      "   ---------------------------------- ----- 177.5/204.1 MB 3.7 MB/s eta 0:00:08\n",
      "   ---------------------------------- ----- 177.5/204.1 MB 3.7 MB/s eta 0:00:08\n",
      "   ----------------------------------- ---- 180.4/204.1 MB 3.8 MB/s eta 0:00:07\n",
      "   ----------------------------------- ---- 180.9/204.1 MB 3.8 MB/s eta 0:00:07\n",
      "   ----------------------------------- ---- 181.4/204.1 MB 3.8 MB/s eta 0:00:06\n",
      "   ----------------------------------- ---- 182.2/204.1 MB 3.8 MB/s eta 0:00:06\n",
      "   ----------------------------------- ---- 183.0/204.1 MB 3.7 MB/s eta 0:00:06\n",
      "   ------------------------------------ --- 183.8/204.1 MB 3.7 MB/s eta 0:00:06\n",
      "   ------------------------------------ --- 184.0/204.1 MB 3.7 MB/s eta 0:00:06\n",
      "   ------------------------------------ --- 184.8/204.1 MB 3.7 MB/s eta 0:00:06\n",
      "   ------------------------------------ --- 185.3/204.1 MB 3.7 MB/s eta 0:00:06\n",
      "   ------------------------------------ --- 185.9/204.1 MB 3.7 MB/s eta 0:00:05\n",
      "   ------------------------------------ --- 186.4/204.1 MB 3.6 MB/s eta 0:00:05\n",
      "   ------------------------------------ --- 186.9/204.1 MB 3.6 MB/s eta 0:00:05\n",
      "   ------------------------------------ --- 187.4/204.1 MB 3.6 MB/s eta 0:00:05\n",
      "   ------------------------------------ --- 188.0/204.1 MB 3.6 MB/s eta 0:00:05\n",
      "   ------------------------------------ --- 188.7/204.1 MB 3.6 MB/s eta 0:00:05\n",
      "   ------------------------------------- -- 189.5/204.1 MB 3.6 MB/s eta 0:00:05\n",
      "   ------------------------------------- -- 189.8/204.1 MB 3.6 MB/s eta 0:00:05\n",
      "   ------------------------------------- -- 190.3/204.1 MB 3.6 MB/s eta 0:00:04\n",
      "   ------------------------------------- -- 191.1/204.1 MB 3.5 MB/s eta 0:00:04\n",
      "   ------------------------------------- -- 191.6/204.1 MB 3.5 MB/s eta 0:00:04\n",
      "   ------------------------------------- -- 191.9/204.1 MB 3.5 MB/s eta 0:00:04\n",
      "   ------------------------------------- -- 192.7/204.1 MB 3.5 MB/s eta 0:00:04\n",
      "   ------------------------------------- -- 193.2/204.1 MB 3.5 MB/s eta 0:00:04\n",
      "   ------------------------------------- -- 193.7/204.1 MB 3.5 MB/s eta 0:00:03\n",
      "   -------------------------------------- - 194.5/204.1 MB 3.5 MB/s eta 0:00:03\n",
      "   -------------------------------------- - 195.0/204.1 MB 3.5 MB/s eta 0:00:03\n",
      "   -------------------------------------- - 195.8/204.1 MB 3.5 MB/s eta 0:00:03\n",
      "   -------------------------------------- - 196.3/204.1 MB 3.4 MB/s eta 0:00:03\n",
      "   -------------------------------------- - 196.9/204.1 MB 3.4 MB/s eta 0:00:03\n",
      "   -------------------------------------- - 197.4/204.1 MB 3.4 MB/s eta 0:00:02\n",
      "   -------------------------------------- - 197.9/204.1 MB 3.4 MB/s eta 0:00:02\n",
      "   -------------------------------------- - 198.7/204.1 MB 3.4 MB/s eta 0:00:02\n",
      "   ---------------------------------------  199.2/204.1 MB 3.4 MB/s eta 0:00:02\n",
      "   ---------------------------------------  199.8/204.1 MB 3.4 MB/s eta 0:00:02\n",
      "   ---------------------------------------  200.3/204.1 MB 3.4 MB/s eta 0:00:02\n",
      "   ---------------------------------------  200.8/204.1 MB 3.4 MB/s eta 0:00:01\n",
      "   ---------------------------------------  201.6/204.1 MB 3.3 MB/s eta 0:00:01\n",
      "   ---------------------------------------  202.4/204.1 MB 3.3 MB/s eta 0:00:01\n",
      "   ---------------------------------------  202.6/204.1 MB 3.3 MB/s eta 0:00:01\n",
      "   ---------------------------------------  203.2/204.1 MB 3.3 MB/s eta 0:00:01\n",
      "   ---------------------------------------  203.9/204.1 MB 3.3 MB/s eta 0:00:01\n",
      "   ---------------------------------------  203.9/204.1 MB 3.3 MB/s eta 0:00:01\n",
      "   ---------------------------------------  203.9/204.1 MB 3.3 MB/s eta 0:00:01\n",
      "   ---------------------------------------  203.9/204.1 MB 3.3 MB/s eta 0:00:01\n",
      "   ---------------------------------------- 204.1/204.1 MB 3.2 MB/s eta 0:00:00\n",
      "Using cached sympy-1.13.1-py3-none-any.whl (6.2 MB)\n",
      "Downloading transformers-4.49.0-py3-none-any.whl (10.0 MB)\n",
      "   ---------------------------------------- 0.0/10.0 MB ? eta -:--:--\n",
      "   - -------------------------------------- 0.3/10.0 MB ? eta -:--:--\n",
      "   --- ------------------------------------ 0.8/10.0 MB 2.1 MB/s eta 0:00:05\n",
      "   ----- ---------------------------------- 1.3/10.0 MB 2.8 MB/s eta 0:00:04\n",
      "   -------- ------------------------------- 2.1/10.0 MB 2.7 MB/s eta 0:00:03\n",
      "   ---------- ----------------------------- 2.6/10.0 MB 2.6 MB/s eta 0:00:03\n",
      "   ----------- ---------------------------- 2.9/10.0 MB 2.7 MB/s eta 0:00:03\n",
      "   -------------- ------------------------- 3.7/10.0 MB 2.7 MB/s eta 0:00:03\n",
      "   ----------------- ---------------------- 4.5/10.0 MB 2.8 MB/s eta 0:00:02\n",
      "   ------------------- -------------------- 5.0/10.0 MB 2.7 MB/s eta 0:00:02\n",
      "   ----------------------- ---------------- 5.8/10.0 MB 2.8 MB/s eta 0:00:02\n",
      "   ------------------------- -------------- 6.3/10.0 MB 2.9 MB/s eta 0:00:02\n",
      "   ----------------------------- ---------- 7.3/10.0 MB 3.0 MB/s eta 0:00:01\n",
      "   ------------------------------- -------- 7.9/10.0 MB 3.0 MB/s eta 0:00:01\n",
      "   -------------------------------- ------- 8.1/10.0 MB 3.0 MB/s eta 0:00:01\n",
      "   ------------------------------------ --- 9.2/10.0 MB 3.0 MB/s eta 0:00:01\n",
      "   ---------------------------------------  10.0/10.0 MB 3.1 MB/s eta 0:00:01\n",
      "   ---------------------------------------- 10.0/10.0 MB 3.0 MB/s eta 0:00:00\n",
      "Downloading fsspec-2025.2.0-py3-none-any.whl (184 kB)\n",
      "Downloading safetensors-0.5.2-cp38-abi3-win_amd64.whl (303 kB)\n",
      "Downloading tokenizers-0.21.0-cp39-abi3-win_amd64.whl (2.4 MB)\n",
      "   ---------------------------------------- 0.0/2.4 MB ? eta -:--:--\n",
      "   ---- ----------------------------------- 0.3/2.4 MB ? eta -:--:--\n",
      "   ----------------- ---------------------- 1.0/2.4 MB 3.9 MB/s eta 0:00:01\n",
      "   ----------------------------------- ---- 2.1/2.4 MB 3.9 MB/s eta 0:00:01\n",
      "   ---------------------------------------- 2.4/2.4 MB 3.8 MB/s eta 0:00:00\n",
      "Downloading filelock-3.17.0-py3-none-any.whl (16 kB)\n",
      "Using cached networkx-3.4.2-py3-none-any.whl (1.7 MB)\n",
      "Using cached mpmath-1.3.0-py3-none-any.whl (536 kB)\n",
      "Installing collected packages: mpmath, sympy, safetensors, networkx, fsspec, filelock, torch, huggingface-hub, tokenizers, transformers, sentence-transformers\n",
      "Successfully installed filelock-3.17.0 fsspec-2025.2.0 huggingface-hub-0.29.0 mpmath-1.3.0 networkx-3.4.2 safetensors-0.5.2 sentence-transformers-3.4.1 sympy-1.13.1 tokenizers-0.21.0 torch-2.6.0 transformers-4.49.0\n"
     ]
    }
   ],
   "execution_count": 46
  },
  {
   "metadata": {
    "ExecuteTime": {
     "end_time": "2025-02-19T13:56:48.815219Z",
     "start_time": "2025-02-19T13:51:52.042357Z"
    }
   },
   "cell_type": "code",
   "source": [
    "from sentence_transformers import SentenceTransformer\n",
    "\n",
    "# Load BERT model\n",
    "bert_model = SentenceTransformer('all-MiniLM-L6-v2')\n",
    "\n",
    "# Convert job descriptions into embeddings\n",
    "job_embeddings = bert_model.encode(jobs_df['description'].astype(str), show_progress_bar=True)\n"
   ],
   "id": "478a842727f60c7",
   "outputs": [
    {
     "data": {
      "text/plain": [
       "modules.json:   0%|          | 0.00/349 [00:00<?, ?B/s]"
      ],
      "application/vnd.jupyter.widget-view+json": {
       "version_major": 2,
       "version_minor": 0,
       "model_id": "13067bf1981947efb7632ba10a5f4de0"
      }
     },
     "metadata": {},
     "output_type": "display_data"
    },
    {
     "name": "stderr",
     "output_type": "stream",
     "text": [
      "C:\\Users\\Semek\\PycharmProjects\\AI-Powered-Job-Recommendation-System\\.venv\\Lib\\site-packages\\huggingface_hub\\file_download.py:142: UserWarning: `huggingface_hub` cache-system uses symlinks by default to efficiently store duplicated files but your machine does not support them in C:\\Users\\Semek\\.cache\\huggingface\\hub\\models--sentence-transformers--all-MiniLM-L6-v2. Caching files will still work but in a degraded version that might require more space on your disk. This warning can be disabled by setting the `HF_HUB_DISABLE_SYMLINKS_WARNING` environment variable. For more details, see https://huggingface.co/docs/huggingface_hub/how-to-cache#limitations.\n",
      "To support symlinks on Windows, you either need to activate Developer Mode or to run Python as an administrator. In order to activate developer mode, see this article: https://docs.microsoft.com/en-us/windows/apps/get-started/enable-your-device-for-development\n",
      "  warnings.warn(message)\n"
     ]
    },
    {
     "data": {
      "text/plain": [
       "config_sentence_transformers.json:   0%|          | 0.00/116 [00:00<?, ?B/s]"
      ],
      "application/vnd.jupyter.widget-view+json": {
       "version_major": 2,
       "version_minor": 0,
       "model_id": "58940ee6747c46cab05afa9657458b60"
      }
     },
     "metadata": {},
     "output_type": "display_data"
    },
    {
     "data": {
      "text/plain": [
       "README.md:   0%|          | 0.00/10.7k [00:00<?, ?B/s]"
      ],
      "application/vnd.jupyter.widget-view+json": {
       "version_major": 2,
       "version_minor": 0,
       "model_id": "cfece1e8f5a7427a8ded59f0738c47cf"
      }
     },
     "metadata": {},
     "output_type": "display_data"
    },
    {
     "data": {
      "text/plain": [
       "sentence_bert_config.json:   0%|          | 0.00/53.0 [00:00<?, ?B/s]"
      ],
      "application/vnd.jupyter.widget-view+json": {
       "version_major": 2,
       "version_minor": 0,
       "model_id": "3a845390f752469b83fd632eb831f133"
      }
     },
     "metadata": {},
     "output_type": "display_data"
    },
    {
     "data": {
      "text/plain": [
       "config.json:   0%|          | 0.00/612 [00:00<?, ?B/s]"
      ],
      "application/vnd.jupyter.widget-view+json": {
       "version_major": 2,
       "version_minor": 0,
       "model_id": "ff47d3df13404312a3ae3a15ee6d6d83"
      }
     },
     "metadata": {},
     "output_type": "display_data"
    },
    {
     "data": {
      "text/plain": [
       "model.safetensors:   0%|          | 0.00/90.9M [00:00<?, ?B/s]"
      ],
      "application/vnd.jupyter.widget-view+json": {
       "version_major": 2,
       "version_minor": 0,
       "model_id": "ab2be5ec974f417da41d8e10d1c4dae4"
      }
     },
     "metadata": {},
     "output_type": "display_data"
    },
    {
     "data": {
      "text/plain": [
       "tokenizer_config.json:   0%|          | 0.00/350 [00:00<?, ?B/s]"
      ],
      "application/vnd.jupyter.widget-view+json": {
       "version_major": 2,
       "version_minor": 0,
       "model_id": "e3581bdef1cf47b9a87c189e38dd6e67"
      }
     },
     "metadata": {},
     "output_type": "display_data"
    },
    {
     "data": {
      "text/plain": [
       "vocab.txt:   0%|          | 0.00/232k [00:00<?, ?B/s]"
      ],
      "application/vnd.jupyter.widget-view+json": {
       "version_major": 2,
       "version_minor": 0,
       "model_id": "2b19f490bda2447d896d081ac891616c"
      }
     },
     "metadata": {},
     "output_type": "display_data"
    },
    {
     "data": {
      "text/plain": [
       "tokenizer.json:   0%|          | 0.00/466k [00:00<?, ?B/s]"
      ],
      "application/vnd.jupyter.widget-view+json": {
       "version_major": 2,
       "version_minor": 0,
       "model_id": "84b4187b38b8498b84a46cc9f8eef8c5"
      }
     },
     "metadata": {},
     "output_type": "display_data"
    },
    {
     "data": {
      "text/plain": [
       "special_tokens_map.json:   0%|          | 0.00/112 [00:00<?, ?B/s]"
      ],
      "application/vnd.jupyter.widget-view+json": {
       "version_major": 2,
       "version_minor": 0,
       "model_id": "343ae42b9ee54416829c8c70909f089f"
      }
     },
     "metadata": {},
     "output_type": "display_data"
    },
    {
     "data": {
      "text/plain": [
       "1_Pooling%2Fconfig.json:   0%|          | 0.00/190 [00:00<?, ?B/s]"
      ],
      "application/vnd.jupyter.widget-view+json": {
       "version_major": 2,
       "version_minor": 0,
       "model_id": "8331046a1df6459681e40bd52beb4b08"
      }
     },
     "metadata": {},
     "output_type": "display_data"
    },
    {
     "data": {
      "text/plain": [
       "Batches:   0%|          | 0/1659 [00:00<?, ?it/s]"
      ],
      "application/vnd.jupyter.widget-view+json": {
       "version_major": 2,
       "version_minor": 0,
       "model_id": "c1d7b2e3e9d644ed9e9c270efac90710"
      }
     },
     "metadata": {},
     "output_type": "display_data"
    },
    {
     "name": "stderr",
     "output_type": "stream",
     "text": [
      "\n",
      "KeyboardInterrupt\n",
      "\n"
     ]
    }
   ],
   "execution_count": 47
  },
  {
   "metadata": {},
   "cell_type": "code",
   "source": [
    "from sklearn.metrics.pairwise import cosine_similarity\n",
    "import numpy as np\n",
    "\n",
    "def recommend_jobs(user_input, top_n=5, min_budget=0, country=None, show_chart=True):\n",
    "    \"\"\"\n",
    "    Recommend jobs based on user input using BERT embeddings.\n",
    "    \"\"\"\n",
    "    # Convert user input into a BERT embedding\n",
    "    user_embedding = bert_model.encode([user_input])\n",
    "\n",
    "    # Compute cosine similarity\n",
    "    similarity_scores = cosine_similarity(user_embedding, job_embeddings)\n",
    "\n",
    "    # Get top job indices\n",
    "    job_indices = similarity_scores.argsort()[0][-top_n * 3:][::-1]  # Get more jobs to filter later\n",
    "\n",
    "    # Extract top job recommendations\n",
    "    recommended_jobs = jobs_df.iloc[job_indices].copy()\n",
    "    recommended_jobs['match_percentage'] = similarity_scores[0][job_indices] * 100\n",
    "\n",
    "    # Apply budget filter\n",
    "    recommended_jobs = recommended_jobs[recommended_jobs['budget'] >= min_budget]\n",
    "\n",
    "    # Apply country filter (if provided)\n",
    "    if country:\n",
    "        recommended_jobs = recommended_jobs[recommended_jobs['country'].str.lower() == country.lower()]\n",
    "\n",
    "    # Get the final top N results\n",
    "    recommended_jobs = recommended_jobs.head(top_n)\n",
    "\n",
    "    # Display Table\n",
    "    display(recommended_jobs[['title', 'link', 'budget', 'country', 'match_percentage']].style.format({'match_percentage': '{:.2f}%', 'budget': '${:,.0f}'}))\n",
    "\n",
    "    # Show Bar Chart\n",
    "    if show_chart and not recommended_jobs.empty:\n",
    "        plt.figure(figsize=(8, 4))\n",
    "        sns.barplot(y=recommended_jobs['title'], x=recommended_jobs['match_percentage'], palette='Blues_r')\n",
    "        plt.xlabel(\"Match Percentage\")\n",
    "        plt.ylabel(\"Job Title\")\n",
    "        plt.title(\"Top Job Recommendations\")\n",
    "        plt.xlim(0, 100)\n",
    "        plt.show()\n",
    "\n",
    "    return recommended_jobs\n"
   ],
   "id": "a996eb61ccc69cc5",
   "outputs": [],
   "execution_count": null
  },
  {
   "metadata": {},
   "cell_type": "code",
   "outputs": [],
   "execution_count": null,
   "source": "",
   "id": "94630bae76d99d40"
  }
 ],
 "metadata": {
  "kernelspec": {
   "display_name": "Python 3",
   "language": "python",
   "name": "python3"
  },
  "language_info": {
   "codemirror_mode": {
    "name": "ipython",
    "version": 2
   },
   "file_extension": ".py",
   "mimetype": "text/x-python",
   "name": "python",
   "nbconvert_exporter": "python",
   "pygments_lexer": "ipython2",
   "version": "2.7.6"
  }
 },
 "nbformat": 4,
 "nbformat_minor": 5
}
