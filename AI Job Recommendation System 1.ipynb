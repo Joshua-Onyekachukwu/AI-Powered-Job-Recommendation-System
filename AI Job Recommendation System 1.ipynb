{
 "cells": [
  {
   "cell_type": "code",
   "id": "initial_id",
   "metadata": {
    "collapsed": true,
    "ExecuteTime": {
     "end_time": "2025-02-19T12:40:02.907538Z",
     "start_time": "2025-02-19T12:39:59.609681Z"
    }
   },
   "source": [
    "import pandas as pd\n",
    "import numpy as np\n",
    "from sklearn.feature_extraction.text import TfidfVectorizer\n",
    "from sklearn.metrics.pairwise import cosine_similarity\n",
    "import nltk\n",
    "from nltk.corpus import stopwords\n",
    "from flask import Flask, request, jsonify\n",
    "from flask_cors import CORS"
   ],
   "outputs": [],
   "execution_count": 1
  },
  {
   "metadata": {
    "ExecuteTime": {
     "end_time": "2025-02-19T12:40:19.795838Z",
     "start_time": "2025-02-19T12:40:17.369619Z"
    }
   },
   "cell_type": "code",
   "source": [
    "# Load the dataset\n",
    "jobs_df = pd.read_csv('upwork-jobs.csv')\n",
    "\n",
    "# Display the first few rows\n",
    "jobs_df.head()"
   ],
   "id": "188c8a1f329ea6ba",
   "outputs": [
    {
     "data": {
      "text/plain": [
       "                                               title  \\\n",
       "0  Experienced Media Buyer For Solar Pannel and R...   \n",
       "1                               Full Stack Developer   \n",
       "2                                    SMMA Bubble App   \n",
       "3             Talent Hunter Specialized in Marketing   \n",
       "4                                      Data Engineer   \n",
       "\n",
       "                                                link  \\\n",
       "0  https://www.upwork.com/jobs/Experienced-Media-...   \n",
       "1  https://www.upwork.com/jobs/Full-Stack-Develop...   \n",
       "2  https://www.upwork.com/jobs/SMMA-Bubble-App_%7...   \n",
       "3  https://www.upwork.com/jobs/Talent-Hunter-Spec...   \n",
       "4  https://www.upwork.com/jobs/Data-Engineer_%7E0...   \n",
       "\n",
       "                                         description  \\\n",
       "0  We’re looking for a talented and hardworking a...   \n",
       "1  Job Title: Full Stack DeveloperWe are seeking ...   \n",
       "2  I need someone to redesign my bubble.io site t...   \n",
       "3  Join Our Growing Team!We are an innovative com...   \n",
       "4  We are looking for a resource who can work par...   \n",
       "\n",
       "              published_date is_hourly  hourly_low  hourly_high  budget  \\\n",
       "0  2024-02-17 09:09:54+00:00     False         NaN          NaN   500.0   \n",
       "1  2024-02-17 09:09:17+00:00     False         NaN          NaN  1100.0   \n",
       "2  2024-02-17 09:08:46+00:00      True        10.0         30.0     NaN   \n",
       "3  2024-02-17 09:08:08+00:00       NaN         NaN          NaN     NaN   \n",
       "4  2024-02-17 09:07:42+00:00     False         NaN          NaN   650.0   \n",
       "\n",
       "         country  \n",
       "0            NaN  \n",
       "1  United States  \n",
       "2  United States  \n",
       "3  United States  \n",
       "4          India  "
      ],
      "text/html": [
       "<div>\n",
       "<style scoped>\n",
       "    .dataframe tbody tr th:only-of-type {\n",
       "        vertical-align: middle;\n",
       "    }\n",
       "\n",
       "    .dataframe tbody tr th {\n",
       "        vertical-align: top;\n",
       "    }\n",
       "\n",
       "    .dataframe thead th {\n",
       "        text-align: right;\n",
       "    }\n",
       "</style>\n",
       "<table border=\"1\" class=\"dataframe\">\n",
       "  <thead>\n",
       "    <tr style=\"text-align: right;\">\n",
       "      <th></th>\n",
       "      <th>title</th>\n",
       "      <th>link</th>\n",
       "      <th>description</th>\n",
       "      <th>published_date</th>\n",
       "      <th>is_hourly</th>\n",
       "      <th>hourly_low</th>\n",
       "      <th>hourly_high</th>\n",
       "      <th>budget</th>\n",
       "      <th>country</th>\n",
       "    </tr>\n",
       "  </thead>\n",
       "  <tbody>\n",
       "    <tr>\n",
       "      <th>0</th>\n",
       "      <td>Experienced Media Buyer For Solar Pannel and R...</td>\n",
       "      <td>https://www.upwork.com/jobs/Experienced-Media-...</td>\n",
       "      <td>We’re looking for a talented and hardworking a...</td>\n",
       "      <td>2024-02-17 09:09:54+00:00</td>\n",
       "      <td>False</td>\n",
       "      <td>NaN</td>\n",
       "      <td>NaN</td>\n",
       "      <td>500.0</td>\n",
       "      <td>NaN</td>\n",
       "    </tr>\n",
       "    <tr>\n",
       "      <th>1</th>\n",
       "      <td>Full Stack Developer</td>\n",
       "      <td>https://www.upwork.com/jobs/Full-Stack-Develop...</td>\n",
       "      <td>Job Title: Full Stack DeveloperWe are seeking ...</td>\n",
       "      <td>2024-02-17 09:09:17+00:00</td>\n",
       "      <td>False</td>\n",
       "      <td>NaN</td>\n",
       "      <td>NaN</td>\n",
       "      <td>1100.0</td>\n",
       "      <td>United States</td>\n",
       "    </tr>\n",
       "    <tr>\n",
       "      <th>2</th>\n",
       "      <td>SMMA Bubble App</td>\n",
       "      <td>https://www.upwork.com/jobs/SMMA-Bubble-App_%7...</td>\n",
       "      <td>I need someone to redesign my bubble.io site t...</td>\n",
       "      <td>2024-02-17 09:08:46+00:00</td>\n",
       "      <td>True</td>\n",
       "      <td>10.0</td>\n",
       "      <td>30.0</td>\n",
       "      <td>NaN</td>\n",
       "      <td>United States</td>\n",
       "    </tr>\n",
       "    <tr>\n",
       "      <th>3</th>\n",
       "      <td>Talent Hunter Specialized in Marketing</td>\n",
       "      <td>https://www.upwork.com/jobs/Talent-Hunter-Spec...</td>\n",
       "      <td>Join Our Growing Team!We are an innovative com...</td>\n",
       "      <td>2024-02-17 09:08:08+00:00</td>\n",
       "      <td>NaN</td>\n",
       "      <td>NaN</td>\n",
       "      <td>NaN</td>\n",
       "      <td>NaN</td>\n",
       "      <td>United States</td>\n",
       "    </tr>\n",
       "    <tr>\n",
       "      <th>4</th>\n",
       "      <td>Data Engineer</td>\n",
       "      <td>https://www.upwork.com/jobs/Data-Engineer_%7E0...</td>\n",
       "      <td>We are looking for a resource who can work par...</td>\n",
       "      <td>2024-02-17 09:07:42+00:00</td>\n",
       "      <td>False</td>\n",
       "      <td>NaN</td>\n",
       "      <td>NaN</td>\n",
       "      <td>650.0</td>\n",
       "      <td>India</td>\n",
       "    </tr>\n",
       "  </tbody>\n",
       "</table>\n",
       "</div>"
      ]
     },
     "execution_count": 3,
     "metadata": {},
     "output_type": "execute_result"
    }
   ],
   "execution_count": 3
  },
  {
   "metadata": {
    "ExecuteTime": {
     "end_time": "2025-02-19T12:43:44.870097Z",
     "start_time": "2025-02-19T12:43:44.833261Z"
    }
   },
   "cell_type": "code",
   "source": [
    "#Check the first and last few rows:\n",
    "\n",
    "\n",
    "print(jobs_df.head())  # First 5 rows\n",
    "print(jobs_df.tail())  # Last 5 rows\n"
   ],
   "id": "f5fecee7e91cb516",
   "outputs": [
    {
     "name": "stdout",
     "output_type": "stream",
     "text": [
      "                                               title  \\\n",
      "0  Experienced Media Buyer For Solar Pannel and R...   \n",
      "1                               Full Stack Developer   \n",
      "2                                    SMMA Bubble App   \n",
      "3             Talent Hunter Specialized in Marketing   \n",
      "4                                      Data Engineer   \n",
      "\n",
      "                                                link  \\\n",
      "0  https://www.upwork.com/jobs/Experienced-Media-...   \n",
      "1  https://www.upwork.com/jobs/Full-Stack-Develop...   \n",
      "2  https://www.upwork.com/jobs/SMMA-Bubble-App_%7...   \n",
      "3  https://www.upwork.com/jobs/Talent-Hunter-Spec...   \n",
      "4  https://www.upwork.com/jobs/Data-Engineer_%7E0...   \n",
      "\n",
      "                                         description  \\\n",
      "0  We’re looking for a talented and hardworking a...   \n",
      "1  Job Title: Full Stack DeveloperWe are seeking ...   \n",
      "2  I need someone to redesign my bubble.io site t...   \n",
      "3  Join Our Growing Team!We are an innovative com...   \n",
      "4  We are looking for a resource who can work par...   \n",
      "\n",
      "              published_date is_hourly  hourly_low  hourly_high  budget  \\\n",
      "0  2024-02-17 09:09:54+00:00     False         NaN          NaN   500.0   \n",
      "1  2024-02-17 09:09:17+00:00     False         NaN          NaN  1100.0   \n",
      "2  2024-02-17 09:08:46+00:00      True        10.0         30.0     NaN   \n",
      "3  2024-02-17 09:08:08+00:00       NaN         NaN          NaN     NaN   \n",
      "4  2024-02-17 09:07:42+00:00     False         NaN          NaN   650.0   \n",
      "\n",
      "         country  \n",
      "0            NaN  \n",
      "1  United States  \n",
      "2  United States  \n",
      "3  United States  \n",
      "4          India  \n",
      "                                                   title  \\\n",
      "53053        Partial Migration From WordPress to Shopify   \n",
      "53054              Logo work &amp; Event Booth Rendering   \n",
      "53055              Wedding Dress Collection Photographer   \n",
      "53056                           Design a startup profile   \n",
      "53057  Make room and price modifications to Hotel boo...   \n",
      "\n",
      "                                                    link  \\\n",
      "53053  https://www.upwork.com/jobs/Partial-Migration-...   \n",
      "53054  https://www.upwork.com/jobs/Logo-work-amp-Even...   \n",
      "53055  https://www.upwork.com/jobs/Wedding-Dress-Coll...   \n",
      "53056  https://www.upwork.com/jobs/Design-startup-pro...   \n",
      "53057  https://www.upwork.com/jobs/Make-room-and-pric...   \n",
      "\n",
      "                                             description  \\\n",
      "53053  We're moving from Wordpress to Shopify. The Sh...   \n",
      "53054  I need some art works rendered in to booth des...   \n",
      "53055  We are looking for a skilled photographer to c...   \n",
      "53056  I building a startup company and I want to des...   \n",
      "53057  Ok the functionality of the site works fine We...   \n",
      "\n",
      "                  published_date is_hourly  hourly_low  hourly_high  budget  \\\n",
      "53053  2024-02-14 06:40:39+00:00     False         NaN          NaN   150.0   \n",
      "53054  2024-02-14 06:40:26+00:00     False         NaN          NaN    30.0   \n",
      "53055  2024-02-14 06:40:06+00:00      True        23.0         51.0     NaN   \n",
      "53056  2024-02-14 06:40:06+00:00     False         NaN          NaN    70.0   \n",
      "53057  2024-02-17 03:12:29+00:00     False         NaN          NaN    60.0   \n",
      "\n",
      "             country  \n",
      "53053      Australia  \n",
      "53054  United States  \n",
      "53055      Australia  \n",
      "53056   Saudi Arabia  \n",
      "53057  United States  \n"
     ]
    }
   ],
   "execution_count": 4
  },
  {
   "metadata": {
    "ExecuteTime": {
     "end_time": "2025-02-19T12:43:49.043921Z",
     "start_time": "2025-02-19T12:43:49.025019Z"
    }
   },
   "cell_type": "code",
   "source": [
    "#Check the shape (number of rows and columns):\n",
    "print(jobs_df.shape)\n"
   ],
   "id": "dc76d0a01d92b0a2",
   "outputs": [
    {
     "name": "stdout",
     "output_type": "stream",
     "text": [
      "(53058, 9)\n"
     ]
    }
   ],
   "execution_count": 5
  },
  {
   "metadata": {
    "ExecuteTime": {
     "end_time": "2025-02-19T12:43:59.705107Z",
     "start_time": "2025-02-19T12:43:59.646205Z"
    }
   },
   "cell_type": "code",
   "source": [
    "#Identify missing values:\n",
    "print(jobs_df.isnull().sum())\n"
   ],
   "id": "df73527243a26fea",
   "outputs": [
    {
     "name": "stdout",
     "output_type": "stream",
     "text": [
      "title                 0\n",
      "link                  0\n",
      "description           0\n",
      "published_date        0\n",
      "is_hourly          8229\n",
      "hourly_low        30102\n",
      "hourly_high       30897\n",
      "budget            31185\n",
      "country            1141\n",
      "dtype: int64\n"
     ]
    }
   ],
   "execution_count": 7
  },
  {
   "metadata": {
    "ExecuteTime": {
     "end_time": "2025-02-19T12:49:01.454961Z",
     "start_time": "2025-02-19T12:49:01.432852Z"
    }
   },
   "cell_type": "code",
   "source": [
    "#Handle missing values:\n",
    "jobs_df.dropna(inplace=True)  # Remove rows with missing values (if applicable)\n",
    "# OR\n",
    "jobs_df.ffill(inplace=True)  # Forward fill first\n",
    "jobs_df.bfill(inplace=True)  # Then backward fill\n"
   ],
   "id": "ada2a0f47fedb245",
   "outputs": [],
   "execution_count": 14
  },
  {
   "metadata": {
    "ExecuteTime": {
     "end_time": "2025-02-19T12:49:30.105061Z",
     "start_time": "2025-02-19T12:49:30.048345Z"
    }
   },
   "cell_type": "code",
   "source": [
    "#Find and remove duplicate rows:\n",
    "print(jobs_df.duplicated().sum())  # Count duplicates\n",
    "jobs_df.drop_duplicates(inplace=True)  # Remove duplicates\n"
   ],
   "id": "f935c4aa2cf6658",
   "outputs": [
    {
     "name": "stdout",
     "output_type": "stream",
     "text": [
      "0\n"
     ]
    },
    {
     "data": {
      "text/plain": [
       "Empty DataFrame\n",
       "Columns: [title, link, description, published_date, is_hourly, hourly_low, hourly_high, budget, country]\n",
       "Index: []"
      ],
      "text/html": [
       "<div>\n",
       "<style scoped>\n",
       "    .dataframe tbody tr th:only-of-type {\n",
       "        vertical-align: middle;\n",
       "    }\n",
       "\n",
       "    .dataframe tbody tr th {\n",
       "        vertical-align: top;\n",
       "    }\n",
       "\n",
       "    .dataframe thead th {\n",
       "        text-align: right;\n",
       "    }\n",
       "</style>\n",
       "<table border=\"1\" class=\"dataframe\">\n",
       "  <thead>\n",
       "    <tr style=\"text-align: right;\">\n",
       "      <th></th>\n",
       "      <th>title</th>\n",
       "      <th>link</th>\n",
       "      <th>description</th>\n",
       "      <th>published_date</th>\n",
       "      <th>is_hourly</th>\n",
       "      <th>hourly_low</th>\n",
       "      <th>hourly_high</th>\n",
       "      <th>budget</th>\n",
       "      <th>country</th>\n",
       "    </tr>\n",
       "  </thead>\n",
       "  <tbody>\n",
       "  </tbody>\n",
       "</table>\n",
       "</div>"
      ]
     },
     "execution_count": 16,
     "metadata": {},
     "output_type": "execute_result"
    }
   ],
   "execution_count": 16
  },
  {
   "metadata": {
    "ExecuteTime": {
     "end_time": "2025-02-19T12:49:47.300365Z",
     "start_time": "2025-02-19T12:49:47.246342Z"
    }
   },
   "cell_type": "code",
   "source": [
    "# Inspect column data types:\n",
    "\n",
    "print(jobs_df.info())"
   ],
   "id": "8efbf3f7863a20e2",
   "outputs": [
    {
     "name": "stdout",
     "output_type": "stream",
     "text": [
      "<class 'pandas.core.frame.DataFrame'>\n",
      "Index: 0 entries\n",
      "Data columns (total 9 columns):\n",
      " #   Column          Non-Null Count  Dtype  \n",
      "---  ------          --------------  -----  \n",
      " 0   title           0 non-null      object \n",
      " 1   link            0 non-null      object \n",
      " 2   description     0 non-null      object \n",
      " 3   published_date  0 non-null      object \n",
      " 4   is_hourly       0 non-null      object \n",
      " 5   hourly_low      0 non-null      float64\n",
      " 6   hourly_high     0 non-null      float64\n",
      " 7   budget          0 non-null      float64\n",
      " 8   country         0 non-null      object \n",
      "dtypes: float64(3), object(6)\n",
      "memory usage: 0.0+ bytes\n",
      "None\n"
     ]
    }
   ],
   "execution_count": 17
  },
  {
   "metadata": {
    "ExecuteTime": {
     "end_time": "2025-02-19T12:59:55.765392Z",
     "start_time": "2025-02-19T12:59:55.754650Z"
    }
   },
   "cell_type": "code",
   "source": [
    "# Convert data types if necessary:\n",
    "\n",
    "jobs_df['published_date'] = pd.to_datetime(jobs_df['published_date'])  # Convert date column\n",
    "jobs_df['budget'] = jobs_df['budget'].astype(float)  # Convert salary to numeric"
   ],
   "id": "d3cdba0e6ffcf5cb",
   "outputs": [],
   "execution_count": 20
  },
  {
   "metadata": {
    "ExecuteTime": {
     "end_time": "2025-02-19T13:00:08.489674Z",
     "start_time": "2025-02-19T13:00:08.456156Z"
    }
   },
   "cell_type": "code",
   "source": [
    "#Get an overview of numerical data:\n",
    "print(jobs_df.describe())\n"
   ],
   "id": "46c5a2f04224dbdb",
   "outputs": [
    {
     "name": "stdout",
     "output_type": "stream",
     "text": [
      "      published_date  hourly_low  hourly_high  budget\n",
      "count              0         0.0          0.0     0.0\n",
      "mean             NaT         NaN          NaN     NaN\n",
      "min              NaT         NaN          NaN     NaN\n",
      "25%              NaT         NaN          NaN     NaN\n",
      "50%              NaT         NaN          NaN     NaN\n",
      "75%              NaT         NaN          NaN     NaN\n",
      "max              NaT         NaN          NaN     NaN\n",
      "std              NaN         NaN          NaN     NaN\n"
     ]
    }
   ],
   "execution_count": 21
  },
  {
   "metadata": {
    "ExecuteTime": {
     "end_time": "2025-02-19T13:00:31.542134Z",
     "start_time": "2025-02-19T13:00:31.518671Z"
    }
   },
   "cell_type": "code",
   "source": [
    "# Get summary of categorical columns:\n",
    "\n",
    "print(jobs_df.describe(include=['O']))  # 'O' means object (categorical) data"
   ],
   "id": "22b62b2af94b95b8",
   "outputs": [
    {
     "name": "stdout",
     "output_type": "stream",
     "text": [
      "       title link description is_hourly country\n",
      "count      0    0           0         0       0\n",
      "unique     0    0           0         0       0\n",
      "top      NaN  NaN         NaN       NaN     NaN\n",
      "freq     NaN  NaN         NaN       NaN     NaN\n"
     ]
    }
   ],
   "execution_count": 22
  },
  {
   "metadata": {
    "ExecuteTime": {
     "end_time": "2025-02-19T13:03:44.044108Z",
     "start_time": "2025-02-19T13:03:43.768542Z"
    }
   },
   "cell_type": "code",
   "source": [
    "# Identify possible outliers using box plots:\n",
    "\n",
    "import matplotlib.pyplot as plt\n",
    "import seaborn as sns\n",
    "\n",
    "sns.boxplot(x=jobs_df['budget'])\n",
    "plt.show()"
   ],
   "id": "beb1a84658e9aeab",
   "outputs": [
    {
     "data": {
      "text/plain": [
       "<Figure size 640x480 with 1 Axes>"
      ],
      "image/png": "[encoded data removed]"
     },
     "metadata": {},
     "output_type": "display_data"
    }
   ],
   "execution_count": 25
  },
  {
   "metadata": {
    "ExecuteTime": {
     "end_time": "2025-02-19T13:04:31.073700Z",
     "start_time": "2025-02-19T13:04:28.638964Z"
    }
   },
   "cell_type": "code",
   "source": [
    "# Load the dataset\n",
    "jobs_df = pd.read_csv('upwork-jobs.csv')\n",
    "\n",
    "# Display the first few rows\n",
    "jobs_df.head()"
   ],
   "id": "37aad093c34dad5e",
   "outputs": [
    {
     "data": {
      "text/plain": [
       "                                               title  \\\n",
       "0  Experienced Media Buyer For Solar Pannel and R...   \n",
       "1                               Full Stack Developer   \n",
       "2                                    SMMA Bubble App   \n",
       "3             Talent Hunter Specialized in Marketing   \n",
       "4                                      Data Engineer   \n",
       "\n",
       "                                                link  \\\n",
       "0  https://www.upwork.com/jobs/Experienced-Media-...   \n",
       "1  https://www.upwork.com/jobs/Full-Stack-Develop...   \n",
       "2  https://www.upwork.com/jobs/SMMA-Bubble-App_%7...   \n",
       "3  https://www.upwork.com/jobs/Talent-Hunter-Spec...   \n",
       "4  https://www.upwork.com/jobs/Data-Engineer_%7E0...   \n",
       "\n",
       "                                         description  \\\n",
       "0  We’re looking for a talented and hardworking a...   \n",
       "1  Job Title: Full Stack DeveloperWe are seeking ...   \n",
       "2  I need someone to redesign my bubble.io site t...   \n",
       "3  Join Our Growing Team!We are an innovative com...   \n",
       "4  We are looking for a resource who can work par...   \n",
       "\n",
       "              published_date is_hourly  hourly_low  hourly_high  budget  \\\n",
       "0  2024-02-17 09:09:54+00:00     False         NaN          NaN   500.0   \n",
       "1  2024-02-17 09:09:17+00:00     False         NaN          NaN  1100.0   \n",
       "2  2024-02-17 09:08:46+00:00      True        10.0         30.0     NaN   \n",
       "3  2024-02-17 09:08:08+00:00       NaN         NaN          NaN     NaN   \n",
       "4  2024-02-17 09:07:42+00:00     False         NaN          NaN   650.0   \n",
       "\n",
       "         country  \n",
       "0            NaN  \n",
       "1  United States  \n",
       "2  United States  \n",
       "3  United States  \n",
       "4          India  "
      ],
      "text/html": [
       "<div>\n",
       "<style scoped>\n",
       "    .dataframe tbody tr th:only-of-type {\n",
       "        vertical-align: middle;\n",
       "    }\n",
       "\n",
       "    .dataframe tbody tr th {\n",
       "        vertical-align: top;\n",
       "    }\n",
       "\n",
       "    .dataframe thead th {\n",
       "        text-align: right;\n",
       "    }\n",
       "</style>\n",
       "<table border=\"1\" class=\"dataframe\">\n",
       "  <thead>\n",
       "    <tr style=\"text-align: right;\">\n",
       "      <th></th>\n",
       "      <th>title</th>\n",
       "      <th>link</th>\n",
       "      <th>description</th>\n",
       "      <th>published_date</th>\n",
       "      <th>is_hourly</th>\n",
       "      <th>hourly_low</th>\n",
       "      <th>hourly_high</th>\n",
       "      <th>budget</th>\n",
       "      <th>country</th>\n",
       "    </tr>\n",
       "  </thead>\n",
       "  <tbody>\n",
       "    <tr>\n",
       "      <th>0</th>\n",
       "      <td>Experienced Media Buyer For Solar Pannel and R...</td>\n",
       "      <td>https://www.upwork.com/jobs/Experienced-Media-...</td>\n",
       "      <td>We’re looking for a talented and hardworking a...</td>\n",
       "      <td>2024-02-17 09:09:54+00:00</td>\n",
       "      <td>False</td>\n",
       "      <td>NaN</td>\n",
       "      <td>NaN</td>\n",
       "      <td>500.0</td>\n",
       "      <td>NaN</td>\n",
       "    </tr>\n",
       "    <tr>\n",
       "      <th>1</th>\n",
       "      <td>Full Stack Developer</td>\n",
       "      <td>https://www.upwork.com/jobs/Full-Stack-Develop...</td>\n",
       "      <td>Job Title: Full Stack DeveloperWe are seeking ...</td>\n",
       "      <td>2024-02-17 09:09:17+00:00</td>\n",
       "      <td>False</td>\n",
       "      <td>NaN</td>\n",
       "      <td>NaN</td>\n",
       "      <td>1100.0</td>\n",
       "      <td>United States</td>\n",
       "    </tr>\n",
       "    <tr>\n",
       "      <th>2</th>\n",
       "      <td>SMMA Bubble App</td>\n",
       "      <td>https://www.upwork.com/jobs/SMMA-Bubble-App_%7...</td>\n",
       "      <td>I need someone to redesign my bubble.io site t...</td>\n",
       "      <td>2024-02-17 09:08:46+00:00</td>\n",
       "      <td>True</td>\n",
       "      <td>10.0</td>\n",
       "      <td>30.0</td>\n",
       "      <td>NaN</td>\n",
       "      <td>United States</td>\n",
       "    </tr>\n",
       "    <tr>\n",
       "      <th>3</th>\n",
       "      <td>Talent Hunter Specialized in Marketing</td>\n",
       "      <td>https://www.upwork.com/jobs/Talent-Hunter-Spec...</td>\n",
       "      <td>Join Our Growing Team!We are an innovative com...</td>\n",
       "      <td>2024-02-17 09:08:08+00:00</td>\n",
       "      <td>NaN</td>\n",
       "      <td>NaN</td>\n",
       "      <td>NaN</td>\n",
       "      <td>NaN</td>\n",
       "      <td>United States</td>\n",
       "    </tr>\n",
       "    <tr>\n",
       "      <th>4</th>\n",
       "      <td>Data Engineer</td>\n",
       "      <td>https://www.upwork.com/jobs/Data-Engineer_%7E0...</td>\n",
       "      <td>We are looking for a resource who can work par...</td>\n",
       "      <td>2024-02-17 09:07:42+00:00</td>\n",
       "      <td>False</td>\n",
       "      <td>NaN</td>\n",
       "      <td>NaN</td>\n",
       "      <td>650.0</td>\n",
       "      <td>India</td>\n",
       "    </tr>\n",
       "  </tbody>\n",
       "</table>\n",
       "</div>"
      ]
     },
     "execution_count": 28,
     "metadata": {},
     "output_type": "execute_result"
    }
   ],
   "execution_count": 28
  },
  {
   "metadata": {},
   "cell_type": "markdown",
   "source": [
    "Preprocess the dataset:\n",
    "\n",
    "    Clean the job descriptions and required skills.\n",
    "\n",
    "    Handle missing values and normalize text."
   ],
   "id": "76519a5445c2d1ae"
  },
  {
   "metadata": {
    "ExecuteTime": {
     "end_time": "2025-02-19T13:08:31.435525Z",
     "start_time": "2025-02-19T13:06:17.813194Z"
    }
   },
   "cell_type": "code",
   "source": [
    "# Drop rows with missing values\n",
    "jobs_df.dropna(subset=['description', 'title'], inplace=True)\n",
    "\n",
    "# Convert text to lowercase\n",
    "jobs_df['description'] = jobs_df['description'].str.lower()\n",
    "jobs_df['title'] = jobs_df['title'].str.lower()\n",
    "\n",
    "# Remove stopwords\n",
    "nltk.download('stopwords')\n",
    "stop_words = set(stopwords.words('english'))\n",
    "\n",
    "def remove_stopwords(text):\n",
    "    return ' '.join([word for word in text.split() if word not in stop_words])\n",
    "\n",
    "jobs_df['description'] = jobs_df['description'].apply(remove_stopwords)\n",
    "jobs_df['title'] = jobs_df['title'].apply(remove_stopwords)"
   ],
   "id": "7e6603e2d8da0499",
   "outputs": [
    {
     "name": "stderr",
     "output_type": "stream",
     "text": [
      "[nltk_data] Error loading stopwords: <urlopen error [WinError 10060] A\n",
      "[nltk_data]     connection attempt failed because the connected party\n",
      "[nltk_data]     did not properly respond after a period of time, or\n",
      "[nltk_data]     established connection failed because connected host\n",
      "[nltk_data]     has failed to respond>\n"
     ]
    },
    {
     "ename": "LookupError",
     "evalue": "\n**********************************************************************\n  Resource \u001B[93mstopwords\u001B[0m not found.\n  Please use the NLTK Downloader to obtain the resource:\n\n  \u001B[31m>>> import nltk\n  >>> nltk.download('stopwords')\n  \u001B[0m\n  For more information see: https://www.nltk.org/data.html\n\n  Attempted to load \u001B[93mcorpora/stopwords\u001B[0m\n\n  Searched in:\n    - 'C:\\\\Users\\\\Semek/nltk_data'\n    - 'C:\\\\Users\\\\Semek\\\\PycharmProjects\\\\AI-Powered-Job-Recommendation-System\\\\.venv\\\\nltk_data'\n    - 'C:\\\\Users\\\\Semek\\\\PycharmProjects\\\\AI-Powered-Job-Recommendation-System\\\\.venv\\\\share\\\\nltk_data'\n    - 'C:\\\\Users\\\\Semek\\\\PycharmProjects\\\\AI-Powered-Job-Recommendation-System\\\\.venv\\\\lib\\\\nltk_data'\n    - 'C:\\\\Users\\\\Semek\\\\AppData\\\\Roaming\\\\nltk_data'\n    - 'C:\\\\nltk_data'\n    - 'D:\\\\nltk_data'\n    - 'E:\\\\nltk_data'\n**********************************************************************\n",
     "output_type": "error",
     "traceback": [
      "\u001B[1;31m---------------------------------------------------------------------------\u001B[0m",
      "\u001B[1;31mLookupError\u001B[0m                               Traceback (most recent call last)",
      "File \u001B[1;32m~\\PycharmProjects\\AI-Powered-Job-Recommendation-System\\.venv\\Lib\\site-packages\\nltk\\corpus\\util.py:84\u001B[0m, in \u001B[0;36mLazyCorpusLoader.__load\u001B[1;34m(self)\u001B[0m\n\u001B[0;32m     83\u001B[0m \u001B[38;5;28;01mtry\u001B[39;00m:\n\u001B[1;32m---> 84\u001B[0m     root \u001B[38;5;241m=\u001B[39m \u001B[43mnltk\u001B[49m\u001B[38;5;241;43m.\u001B[39;49m\u001B[43mdata\u001B[49m\u001B[38;5;241;43m.\u001B[39;49m\u001B[43mfind\u001B[49m\u001B[43m(\u001B[49m\u001B[38;5;124;43mf\u001B[39;49m\u001B[38;5;124;43m\"\u001B[39;49m\u001B[38;5;132;43;01m{\u001B[39;49;00m\u001B[38;5;28;43mself\u001B[39;49m\u001B[38;5;241;43m.\u001B[39;49m\u001B[43msubdir\u001B[49m\u001B[38;5;132;43;01m}\u001B[39;49;00m\u001B[38;5;124;43m/\u001B[39;49m\u001B[38;5;132;43;01m{\u001B[39;49;00m\u001B[43mzip_name\u001B[49m\u001B[38;5;132;43;01m}\u001B[39;49;00m\u001B[38;5;124;43m\"\u001B[39;49m\u001B[43m)\u001B[49m\n\u001B[0;32m     85\u001B[0m \u001B[38;5;28;01mexcept\u001B[39;00m \u001B[38;5;167;01mLookupError\u001B[39;00m:\n",
      "File \u001B[1;32m~\\PycharmProjects\\AI-Powered-Job-Recommendation-System\\.venv\\Lib\\site-packages\\nltk\\data.py:579\u001B[0m, in \u001B[0;36mfind\u001B[1;34m(resource_name, paths)\u001B[0m\n\u001B[0;32m    578\u001B[0m resource_not_found \u001B[38;5;241m=\u001B[39m \u001B[38;5;124mf\u001B[39m\u001B[38;5;124m\"\u001B[39m\u001B[38;5;130;01m\\n\u001B[39;00m\u001B[38;5;132;01m{\u001B[39;00msep\u001B[38;5;132;01m}\u001B[39;00m\u001B[38;5;130;01m\\n\u001B[39;00m\u001B[38;5;132;01m{\u001B[39;00mmsg\u001B[38;5;132;01m}\u001B[39;00m\u001B[38;5;130;01m\\n\u001B[39;00m\u001B[38;5;132;01m{\u001B[39;00msep\u001B[38;5;132;01m}\u001B[39;00m\u001B[38;5;130;01m\\n\u001B[39;00m\u001B[38;5;124m\"\u001B[39m\n\u001B[1;32m--> 579\u001B[0m \u001B[38;5;28;01mraise\u001B[39;00m \u001B[38;5;167;01mLookupError\u001B[39;00m(resource_not_found)\n",
      "\u001B[1;31mLookupError\u001B[0m: \n**********************************************************************\n  Resource \u001B[93mstopwords\u001B[0m not found.\n  Please use the NLTK Downloader to obtain the resource:\n\n  \u001B[31m>>> import nltk\n  >>> nltk.download('stopwords')\n  \u001B[0m\n  For more information see: https://www.nltk.org/data.html\n\n  Attempted to load \u001B[93mcorpora/stopwords.zip/stopwords/\u001B[0m\n\n  Searched in:\n    - 'C:\\\\Users\\\\Semek/nltk_data'\n    - 'C:\\\\Users\\\\Semek\\\\PycharmProjects\\\\AI-Powered-Job-Recommendation-System\\\\.venv\\\\nltk_data'\n    - 'C:\\\\Users\\\\Semek\\\\PycharmProjects\\\\AI-Powered-Job-Recommendation-System\\\\.venv\\\\share\\\\nltk_data'\n    - 'C:\\\\Users\\\\Semek\\\\PycharmProjects\\\\AI-Powered-Job-Recommendation-System\\\\.venv\\\\lib\\\\nltk_data'\n    - 'C:\\\\Users\\\\Semek\\\\AppData\\\\Roaming\\\\nltk_data'\n    - 'C:\\\\nltk_data'\n    - 'D:\\\\nltk_data'\n    - 'E:\\\\nltk_data'\n**********************************************************************\n",
      "\nDuring handling of the above exception, another exception occurred:\n",
      "\u001B[1;31mLookupError\u001B[0m                               Traceback (most recent call last)",
      "Cell \u001B[1;32mIn[29], line 10\u001B[0m\n\u001B[0;32m      8\u001B[0m \u001B[38;5;66;03m# Remove stopwords\u001B[39;00m\n\u001B[0;32m      9\u001B[0m nltk\u001B[38;5;241m.\u001B[39mdownload(\u001B[38;5;124m'\u001B[39m\u001B[38;5;124mstopwords\u001B[39m\u001B[38;5;124m'\u001B[39m)\n\u001B[1;32m---> 10\u001B[0m stop_words \u001B[38;5;241m=\u001B[39m \u001B[38;5;28mset\u001B[39m(\u001B[43mstopwords\u001B[49m\u001B[38;5;241;43m.\u001B[39;49m\u001B[43mwords\u001B[49m(\u001B[38;5;124m'\u001B[39m\u001B[38;5;124menglish\u001B[39m\u001B[38;5;124m'\u001B[39m))\n\u001B[0;32m     12\u001B[0m \u001B[38;5;28;01mdef\u001B[39;00m\u001B[38;5;250m \u001B[39m\u001B[38;5;21mremove_stopwords\u001B[39m(text):\n\u001B[0;32m     13\u001B[0m     \u001B[38;5;28;01mreturn\u001B[39;00m \u001B[38;5;124m'\u001B[39m\u001B[38;5;124m \u001B[39m\u001B[38;5;124m'\u001B[39m\u001B[38;5;241m.\u001B[39mjoin([word \u001B[38;5;28;01mfor\u001B[39;00m word \u001B[38;5;129;01min\u001B[39;00m text\u001B[38;5;241m.\u001B[39msplit() \u001B[38;5;28;01mif\u001B[39;00m word \u001B[38;5;129;01mnot\u001B[39;00m \u001B[38;5;129;01min\u001B[39;00m stop_words])\n",
      "File \u001B[1;32m~\\PycharmProjects\\AI-Powered-Job-Recommendation-System\\.venv\\Lib\\site-packages\\nltk\\corpus\\util.py:120\u001B[0m, in \u001B[0;36mLazyCorpusLoader.__getattr__\u001B[1;34m(self, attr)\u001B[0m\n\u001B[0;32m    117\u001B[0m \u001B[38;5;28;01mif\u001B[39;00m attr \u001B[38;5;241m==\u001B[39m \u001B[38;5;124m\"\u001B[39m\u001B[38;5;124m__bases__\u001B[39m\u001B[38;5;124m\"\u001B[39m:\n\u001B[0;32m    118\u001B[0m     \u001B[38;5;28;01mraise\u001B[39;00m \u001B[38;5;167;01mAttributeError\u001B[39;00m(\u001B[38;5;124m\"\u001B[39m\u001B[38;5;124mLazyCorpusLoader object has no attribute \u001B[39m\u001B[38;5;124m'\u001B[39m\u001B[38;5;124m__bases__\u001B[39m\u001B[38;5;124m'\u001B[39m\u001B[38;5;124m\"\u001B[39m)\n\u001B[1;32m--> 120\u001B[0m \u001B[38;5;28;43mself\u001B[39;49m\u001B[38;5;241;43m.\u001B[39;49m\u001B[43m__load\u001B[49m\u001B[43m(\u001B[49m\u001B[43m)\u001B[49m\n\u001B[0;32m    121\u001B[0m \u001B[38;5;66;03m# This looks circular, but its not, since __load() changes our\u001B[39;00m\n\u001B[0;32m    122\u001B[0m \u001B[38;5;66;03m# __class__ to something new:\u001B[39;00m\n\u001B[0;32m    123\u001B[0m \u001B[38;5;28;01mreturn\u001B[39;00m \u001B[38;5;28mgetattr\u001B[39m(\u001B[38;5;28mself\u001B[39m, attr)\n",
      "File \u001B[1;32m~\\PycharmProjects\\AI-Powered-Job-Recommendation-System\\.venv\\Lib\\site-packages\\nltk\\corpus\\util.py:86\u001B[0m, in \u001B[0;36mLazyCorpusLoader.__load\u001B[1;34m(self)\u001B[0m\n\u001B[0;32m     84\u001B[0m             root \u001B[38;5;241m=\u001B[39m nltk\u001B[38;5;241m.\u001B[39mdata\u001B[38;5;241m.\u001B[39mfind(\u001B[38;5;124mf\u001B[39m\u001B[38;5;124m\"\u001B[39m\u001B[38;5;132;01m{\u001B[39;00m\u001B[38;5;28mself\u001B[39m\u001B[38;5;241m.\u001B[39msubdir\u001B[38;5;132;01m}\u001B[39;00m\u001B[38;5;124m/\u001B[39m\u001B[38;5;132;01m{\u001B[39;00mzip_name\u001B[38;5;132;01m}\u001B[39;00m\u001B[38;5;124m\"\u001B[39m)\n\u001B[0;32m     85\u001B[0m         \u001B[38;5;28;01mexcept\u001B[39;00m \u001B[38;5;167;01mLookupError\u001B[39;00m:\n\u001B[1;32m---> 86\u001B[0m             \u001B[38;5;28;01mraise\u001B[39;00m e\n\u001B[0;32m     88\u001B[0m \u001B[38;5;66;03m# Load the corpus.\u001B[39;00m\n\u001B[0;32m     89\u001B[0m corpus \u001B[38;5;241m=\u001B[39m \u001B[38;5;28mself\u001B[39m\u001B[38;5;241m.\u001B[39m__reader_cls(root, \u001B[38;5;241m*\u001B[39m\u001B[38;5;28mself\u001B[39m\u001B[38;5;241m.\u001B[39m__args, \u001B[38;5;241m*\u001B[39m\u001B[38;5;241m*\u001B[39m\u001B[38;5;28mself\u001B[39m\u001B[38;5;241m.\u001B[39m__kwargs)\n",
      "File \u001B[1;32m~\\PycharmProjects\\AI-Powered-Job-Recommendation-System\\.venv\\Lib\\site-packages\\nltk\\corpus\\util.py:81\u001B[0m, in \u001B[0;36mLazyCorpusLoader.__load\u001B[1;34m(self)\u001B[0m\n\u001B[0;32m     79\u001B[0m \u001B[38;5;28;01melse\u001B[39;00m:\n\u001B[0;32m     80\u001B[0m     \u001B[38;5;28;01mtry\u001B[39;00m:\n\u001B[1;32m---> 81\u001B[0m         root \u001B[38;5;241m=\u001B[39m \u001B[43mnltk\u001B[49m\u001B[38;5;241;43m.\u001B[39;49m\u001B[43mdata\u001B[49m\u001B[38;5;241;43m.\u001B[39;49m\u001B[43mfind\u001B[49m\u001B[43m(\u001B[49m\u001B[38;5;124;43mf\u001B[39;49m\u001B[38;5;124;43m\"\u001B[39;49m\u001B[38;5;132;43;01m{\u001B[39;49;00m\u001B[38;5;28;43mself\u001B[39;49m\u001B[38;5;241;43m.\u001B[39;49m\u001B[43msubdir\u001B[49m\u001B[38;5;132;43;01m}\u001B[39;49;00m\u001B[38;5;124;43m/\u001B[39;49m\u001B[38;5;132;43;01m{\u001B[39;49;00m\u001B[38;5;28;43mself\u001B[39;49m\u001B[38;5;241;43m.\u001B[39;49m\u001B[43m__name\u001B[49m\u001B[38;5;132;43;01m}\u001B[39;49;00m\u001B[38;5;124;43m\"\u001B[39;49m\u001B[43m)\u001B[49m\n\u001B[0;32m     82\u001B[0m     \u001B[38;5;28;01mexcept\u001B[39;00m \u001B[38;5;167;01mLookupError\u001B[39;00m \u001B[38;5;28;01mas\u001B[39;00m e:\n\u001B[0;32m     83\u001B[0m         \u001B[38;5;28;01mtry\u001B[39;00m:\n",
      "File \u001B[1;32m~\\PycharmProjects\\AI-Powered-Job-Recommendation-System\\.venv\\Lib\\site-packages\\nltk\\data.py:579\u001B[0m, in \u001B[0;36mfind\u001B[1;34m(resource_name, paths)\u001B[0m\n\u001B[0;32m    577\u001B[0m sep \u001B[38;5;241m=\u001B[39m \u001B[38;5;124m\"\u001B[39m\u001B[38;5;124m*\u001B[39m\u001B[38;5;124m\"\u001B[39m \u001B[38;5;241m*\u001B[39m \u001B[38;5;241m70\u001B[39m\n\u001B[0;32m    578\u001B[0m resource_not_found \u001B[38;5;241m=\u001B[39m \u001B[38;5;124mf\u001B[39m\u001B[38;5;124m\"\u001B[39m\u001B[38;5;130;01m\\n\u001B[39;00m\u001B[38;5;132;01m{\u001B[39;00msep\u001B[38;5;132;01m}\u001B[39;00m\u001B[38;5;130;01m\\n\u001B[39;00m\u001B[38;5;132;01m{\u001B[39;00mmsg\u001B[38;5;132;01m}\u001B[39;00m\u001B[38;5;130;01m\\n\u001B[39;00m\u001B[38;5;132;01m{\u001B[39;00msep\u001B[38;5;132;01m}\u001B[39;00m\u001B[38;5;130;01m\\n\u001B[39;00m\u001B[38;5;124m\"\u001B[39m\n\u001B[1;32m--> 579\u001B[0m \u001B[38;5;28;01mraise\u001B[39;00m \u001B[38;5;167;01mLookupError\u001B[39;00m(resource_not_found)\n",
      "\u001B[1;31mLookupError\u001B[0m: \n**********************************************************************\n  Resource \u001B[93mstopwords\u001B[0m not found.\n  Please use the NLTK Downloader to obtain the resource:\n\n  \u001B[31m>>> import nltk\n  >>> nltk.download('stopwords')\n  \u001B[0m\n  For more information see: https://www.nltk.org/data.html\n\n  Attempted to load \u001B[93mcorpora/stopwords\u001B[0m\n\n  Searched in:\n    - 'C:\\\\Users\\\\Semek/nltk_data'\n    - 'C:\\\\Users\\\\Semek\\\\PycharmProjects\\\\AI-Powered-Job-Recommendation-System\\\\.venv\\\\nltk_data'\n    - 'C:\\\\Users\\\\Semek\\\\PycharmProjects\\\\AI-Powered-Job-Recommendation-System\\\\.venv\\\\share\\\\nltk_data'\n    - 'C:\\\\Users\\\\Semek\\\\PycharmProjects\\\\AI-Powered-Job-Recommendation-System\\\\.venv\\\\lib\\\\nltk_data'\n    - 'C:\\\\Users\\\\Semek\\\\AppData\\\\Roaming\\\\nltk_data'\n    - 'C:\\\\nltk_data'\n    - 'D:\\\\nltk_data'\n    - 'E:\\\\nltk_data'\n**********************************************************************\n"
     ]
    }
   ],
   "execution_count": 29
  },
  {
   "metadata": {},
   "cell_type": "code",
   "outputs": [],
   "execution_count": null,
   "source": "",
   "id": "e8700493b0efdd58"
  },
  {
   "metadata": {},
   "cell_type": "markdown",
   "source": [
    "Feature Engineering\n",
    "\n",
    "    Combine job descriptions and required skills into a single text feature:"
   ],
   "id": "8a0beff4e674255a"
  },
  {
   "metadata": {},
   "cell_type": "code",
   "outputs": [],
   "execution_count": null,
   "source": "jobs_df['combined_text'] = jobs_df['description'] + ' ' + jobs_df['title']",
   "id": "2e217b248ba2948"
  },
  {
   "metadata": {},
   "cell_type": "code",
   "outputs": [],
   "execution_count": null,
   "source": [
    "# Vectorize the combined text using TF-IDF:\n",
    "\n",
    "\n",
    "tfidf = TfidfVectorizer(max_features=5000)\n",
    "job_vectors = tfidf.fit_transform(jobs_df['combined_text'])"
   ],
   "id": "ce8b99ba605a4ee1"
  }
 ],
 "metadata": {
  "kernelspec": {
   "display_name": "Python 3",
   "language": "python",
   "name": "python3"
  },
  "language_info": {
   "codemirror_mode": {
    "name": "ipython",
    "version": 2
   },
   "file_extension": ".py",
   "mimetype": "text/x-python",
   "name": "python",
   "nbconvert_exporter": "python",
   "pygments_lexer": "ipython2",
   "version": "2.7.6"
  }
 },
 "nbformat": 4,
 "nbformat_minor": 5
}
